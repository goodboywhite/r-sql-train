{
 "cells": [
  {
   "cell_type": "markdown",
   "metadata": {
    "slideshow": {
     "slide_type": "slide"
    }
   },
   "source": [
    "# SQL 進階\n",
    "\n",
    "## 郭耀仁"
   ]
  },
  {
   "cell_type": "markdown",
   "metadata": {
    "slideshow": {
     "slide_type": "slide"
    }
   },
   "source": [
    "## 聚合函數（Aggregate Functions）"
   ]
  },
  {
   "cell_type": "markdown",
   "metadata": {
    "slideshow": {
     "slide_type": "subslide"
    }
   },
   "source": [
    "## `SUM()` 函數\n",
    "\n",
    "- 回傳加總值：全世界總人口數為多少？\n",
    "\n",
    "```sql\n",
    "SELECT SUM(population)\n",
    "  FROM world;\n",
    "```"
   ]
  },
  {
   "cell_type": "markdown",
   "metadata": {
    "slideshow": {
     "slide_type": "subslide"
    }
   },
   "source": [
    "## `DISTINCT()` 函數\n",
    "\n",
    "- 回傳相異值：全世界的洲別為何，顯示一次即可\n",
    "\n",
    "```sql\n",
    "SELECT DISTINCT(continent)\n",
    "  FROM world;\n",
    "```"
   ]
  },
  {
   "cell_type": "markdown",
   "metadata": {
    "slideshow": {
     "slide_type": "subslide"
    }
   },
   "source": [
    "## `COUNT()` 函數\n",
    "\n",
    "- 計算有多少國家的土地面積超過 100 萬平方公里\n",
    "\n",
    "```sql\n",
    "SELECT COUNT(*)\n",
    "  FROM world\n",
    "  WHERE area > 1000000;\n",
    "```"
   ]
  },
  {
   "cell_type": "markdown",
   "metadata": {
    "slideshow": {
     "slide_type": "slide"
    }
   },
   "source": [
    "## GROUP BY 敘述"
   ]
  },
  {
   "cell_type": "markdown",
   "metadata": {
    "slideshow": {
     "slide_type": "subslide"
    }
   },
   "source": [
    "## COUNT() 函數加入 GROUP BY 敘述\n",
    "\n",
    "- 計算各個 Continent 的國家數\n",
    "\n",
    "```sql\n",
    "SELECT continent,\n",
    "       COUNT(*)\n",
    "    FROM world\n",
    "    GROUP BY continent;\n",
    "```"
   ]
  },
  {
   "cell_type": "markdown",
   "metadata": {
    "slideshow": {
     "slide_type": "subslide"
    }
   },
   "source": [
    "## COUNT() 函數加入 GROUP BY 敘述\n",
    "\n",
    "- 計算各個 Continent 人口超過 1 千萬的國家數\n",
    "\n",
    "```sql\n",
    "SELECT continent,\n",
    "       COUNT(*)\n",
    "    FROM world\n",
    "    WHERE population >= 10000000\n",
    "    GROUP BY continent;\n",
    "```"
   ]
  },
  {
   "cell_type": "markdown",
   "metadata": {
    "slideshow": {
     "slide_type": "subslide"
    }
   },
   "source": [
    "## `SUM()` 函數加入 `GROUP BY` 敘述\n",
    "\n",
    "- 計算各個 continent 的人口總數\n",
    "\n",
    "```sql\n",
    "SELECT continent\n",
    "       ,SUM(population)\n",
    "  FROM world\n",
    "  GROUP BY continent;\n",
    "```"
   ]
  },
  {
   "cell_type": "markdown",
   "metadata": {
    "slideshow": {
     "slide_type": "slide"
    }
   },
   "source": [
    "## HAVING 敘述"
   ]
  },
  {
   "cell_type": "markdown",
   "metadata": {
    "slideshow": {
     "slide_type": "subslide"
    }
   },
   "source": [
    "## `HAVING`\n",
    "\n",
    "- 針對聚合函數下條件\n",
    "- 找出總人口數超過 1 億的洲（Continent）\n",
    "\n",
    "```sql\n",
    "/*錯誤*/\n",
    "SELECT Continent\n",
    "  FROM world\n",
    "  GROUP BY Continent\n",
    "  WHERE SUM(Population) > 100000000;\n",
    "```"
   ]
  },
  {
   "cell_type": "markdown",
   "metadata": {
    "slideshow": {
     "slide_type": "subslide"
    }
   },
   "source": [
    "## `HAVING`（2）\n",
    "\n",
    "- 針對聚合函數下條件\n",
    "- 找出總人口數超過 1 億的洲（Continent）\n",
    "\n",
    "```sql\n",
    "/*正確*/\n",
    "SELECT continent\n",
    "  FROM world\n",
    "  GROUP BY continent\n",
    "  HAVING SUM(population) > 100000000;\n",
    "```"
   ]
  },
  {
   "cell_type": "markdown",
   "metadata": {
    "slideshow": {
     "slide_type": "subslide"
    }
   },
   "source": [
    "## 完成 8 個 SQLZOO 練習\n",
    "\n",
    "https://sqlzoo.net/wiki/SUM_and_COUNT"
   ]
  },
  {
   "cell_type": "markdown",
   "metadata": {
    "slideshow": {
     "slide_type": "slide"
    }
   },
   "source": [
    "## JOIN 描述"
   ]
  },
  {
   "cell_type": "markdown",
   "metadata": {
    "slideshow": {
     "slide_type": "subslide"
    }
   },
   "source": [
    "## `JOIN` 描述\n",
    "\n",
    "- 也許是關聯式資料庫最重要的技巧！\n",
    "- 聯結的種類：\n",
    "    - Inner Join（內部聯結）\n",
    "    - Left Join（左外部聯結）\n",
    "    - Right Join（右外部聯結）\n",
    "    - Full Join（全外部聯結）（MySQL 不支援）"
   ]
  },
  {
   "cell_type": "markdown",
   "metadata": {
    "slideshow": {
     "slide_type": "subslide"
    }
   },
   "source": [
    "## 什麼是資料庫的 Schema\n",
    "\n",
    "![](img/schema.png)"
   ]
  },
  {
   "cell_type": "markdown",
   "metadata": {
    "slideshow": {
     "slide_type": "subslide"
    }
   },
   "source": [
    "## 重要的 Schema 元素\n",
    "\n",
    "- PK(Primary Key)：一個表格用來標註獨立觀測值的欄位\n",
    "- FK(Foreign Key)：用來與其他表格連結的欄位"
   ]
  },
  {
   "cell_type": "markdown",
   "metadata": {
    "slideshow": {
     "slide_type": "subslide"
    }
   },
   "source": [
    "## 看看不同表格\n",
    "\n",
    "- `game` 表格\n",
    "\n",
    "![](img/game.png)"
   ]
  },
  {
   "cell_type": "markdown",
   "metadata": {
    "slideshow": {
     "slide_type": "subslide"
    }
   },
   "source": [
    "## 看看不同表格\n",
    "\n",
    "- `goal` 表格\n",
    "\n",
    "![](img/goal.png)"
   ]
  },
  {
   "cell_type": "markdown",
   "metadata": {
    "slideshow": {
     "slide_type": "subslide"
    }
   },
   "source": [
    "## 看看不同表格\n",
    "\n",
    "- `eteam` 表格\n",
    "\n",
    "![](img/eteam.png)"
   ]
  },
  {
   "cell_type": "markdown",
   "metadata": {
    "slideshow": {
     "slide_type": "subslide"
    }
   },
   "source": [
    "## 暸解一下表格內容\n",
    "\n",
    "查詢德國隊進球的 `matchid` 與 `player`\n",
    "\n",
    "```sql\n",
    "SELECT matchid,\n",
    "       player\n",
    "    FROM goal\n",
    "    WHERE teamid = 'GER';\n",
    "```"
   ]
  },
  {
   "cell_type": "markdown",
   "metadata": {
    "slideshow": {
     "slide_type": "subslide"
    }
   },
   "source": [
    "## 暸解一下表格內容\n",
    "\n",
    "姓氏為 Bender 的球員進球資料\n",
    "\n",
    "```sql\n",
    "SELECT *\n",
    "    FROM goal \n",
    "    WHERE player LIKE '%Bender';\n",
    "```"
   ]
  },
  {
   "cell_type": "markdown",
   "metadata": {
    "slideshow": {
     "slide_type": "subslide"
    }
   },
   "source": [
    "## 暸解一下表格內容\n",
    "\n",
    "查詢 `matchid=1012` 這場比賽的資訊 \n",
    "\n",
    "```sql\n",
    "SELECT *\n",
    "  FROM game\n",
    "  WHERE id='1012';\n",
    "```"
   ]
  },
  {
   "cell_type": "markdown",
   "metadata": {
    "slideshow": {
     "slide_type": "subslide"
    }
   },
   "source": [
    "## 開始使用 JOIN 描述（內部聯結）\n",
    "\n",
    "- 查詢德國隊進球的 `player`, `teamid`, `stadium`, `mdate` 資訊\n",
    "- 由於變數來自兩個表格，養成指定表格名稱的**良好習慣**\n",
    "\n",
    "```sql\n",
    "SELECT goal.player,\n",
    "       goal.teamid,\n",
    "       game.stadium,\n",
    "       game.mdate\n",
    "    FROM game\n",
    "    JOIN goal \n",
    "    ON (game.id=goal.matchid)\n",
    "    WHERE goal.teamid = 'GER';\n",
    "```"
   ]
  },
  {
   "cell_type": "markdown",
   "metadata": {
    "slideshow": {
     "slide_type": "subslide"
    }
   },
   "source": [
    "## 開始使用 JOIN 描述（內部聯結）\n",
    "\n",
    "- 查詢在開賽前 10 分鐘就進球的資訊：`player`, `teamid`, `coach`, `gtime`\n",
    "\n",
    "```sql\n",
    "SELECT goal.player,\n",
    "       goal.teamid,\n",
    "       eteam.coach,\n",
    "       goal.gtime\n",
    "    FROM goal\n",
    "    JOIN eteam\n",
    "    ON goal.teamid=eteam.id\n",
    "    WHERE gtime<=10;\n",
    "```"
   ]
  },
  {
   "cell_type": "markdown",
   "metadata": {
    "slideshow": {
     "slide_type": "subslide"
    }
   },
   "source": [
    "## 開始使用 JOIN 描述（內部聯結）\n",
    "\n",
    "- 查詢 `team1` 教練是 `Fernando Santos` 的比賽日期 `mdate` 與隊伍名稱 `teamname`\n",
    "\n",
    "```sql\n",
    "SELECT game.mdate,\n",
    "       eteam.teamname\n",
    "    FROM game\n",
    "    JOIN eteam\n",
    "    ON game.team1=eteam.id\n",
    "    WHERE eteam.coach='Fernando Santos';\n",
    "```"
   ]
  },
  {
   "cell_type": "markdown",
   "metadata": {
    "slideshow": {
     "slide_type": "subslide"
    }
   },
   "source": [
    "## 開始使用 JOIN 描述（內部聯結）\n",
    "\n",
    "- 查詢有在 'National Stadium, Warsaw' 進球的球員\n",
    "\n",
    "```sql\n",
    "SELECT goal.player\n",
    "    FROM game\n",
    "    JOIN goal\n",
    "    ON game.id=goal.matchid\n",
    "    WHERE stadium='National Stadium, Warsaw'\n",
    "```"
   ]
  },
  {
   "cell_type": "markdown",
   "metadata": {
    "slideshow": {
     "slide_type": "subslide"
    }
   },
   "source": [
    "## 完成 7 個 SQLZOO 練習（1~7）\n",
    "\n",
    "https://sqlzoo.net/wiki/The_JOIN_operation"
   ]
  },
  {
   "cell_type": "markdown",
   "metadata": {
    "slideshow": {
     "slide_type": "slide"
    }
   },
   "source": [
    "## 更多 JOIN"
   ]
  },
  {
   "cell_type": "markdown",
   "metadata": {
    "slideshow": {
     "slide_type": "subslide"
    }
   },
   "source": [
    "## Schema\n",
    "\n",
    "![](img/schema_join.png)"
   ]
  },
  {
   "cell_type": "markdown",
   "metadata": {
    "slideshow": {
     "slide_type": "subslide"
    }
   },
   "source": [
    "## 暸解表格\n",
    "\n",
    "Citizen Kane 何時上映\n",
    "\n",
    "```sql\n",
    "SELECT yr\n",
    "    FROM movie\n",
    "    WHERE title='Citizen Kane';\n",
    "```"
   ]
  },
  {
   "cell_type": "markdown",
   "metadata": {
    "slideshow": {
     "slide_type": "subslide"
    }
   },
   "source": [
    "## 暸解表格\n",
    "\n",
    "Star Trek 系列\n",
    "\n",
    "```sql\n",
    "SELECT id,\n",
    "       title,\n",
    "       yr\n",
    "    FROM movie\n",
    "    WHERE title LIKE '%Star Trek%';\n",
    "```"
   ]
  },
  {
   "cell_type": "markdown",
   "metadata": {
    "slideshow": {
     "slide_type": "subslide"
    }
   },
   "source": [
    "## 暸解表格\n",
    "\n",
    "Glenn Close 的 id 為何\n",
    "\n",
    "```sql\n",
    "SELECT id\n",
    "    FROM actor\n",
    "    WHERE name='Glenn Close';\n",
    "```"
   ]
  },
  {
   "cell_type": "markdown",
   "metadata": {
    "slideshow": {
     "slide_type": "subslide"
    }
   },
   "source": [
    "## 暸解表格\n",
    "\n",
    "電影 Casablanca 的 id 為何\n",
    "\n",
    "```sql\n",
    "SELECT id\n",
    "    FROM movie\n",
    "    WHERE title='Casablanca';\n",
    "```"
   ]
  },
  {
   "cell_type": "markdown",
   "metadata": {
    "slideshow": {
     "slide_type": "subslide"
    }
   },
   "source": [
    "## 聯結表格\n",
    "\n",
    "取得電影 Casablanca 的演員名單"
   ]
  },
  {
   "cell_type": "markdown",
   "metadata": {
    "slideshow": {
     "slide_type": "skip"
    }
   },
   "source": [
    "```sql\n",
    "SELECT name\n",
    "    FROM actor\n",
    "    JOIN casting\n",
    "    ON actor.id = casting.actorid\n",
    "    JOIN movie\n",
    "    ON casting.movieid=movie.id\n",
    "    WHERE movie.title='Casablanca';\n",
    "```"
   ]
  },
  {
   "cell_type": "markdown",
   "metadata": {
    "slideshow": {
     "slide_type": "subslide"
    }
   },
   "source": [
    "## 聯結表格\n",
    "\n",
    "取得電影 Alien 的演員名單"
   ]
  },
  {
   "cell_type": "markdown",
   "metadata": {
    "slideshow": {
     "slide_type": "skip"
    }
   },
   "source": [
    "```sql\n",
    "SELECT actor.name\n",
    "    FROM actor\n",
    "    JOIN casting\n",
    "    ON actor.id = casting.actorid\n",
    "    JOIN movie\n",
    "    ON casting.movieid=movie.id\n",
    "    WHERE movie.title='Alien';\n",
    "```"
   ]
  },
  {
   "cell_type": "markdown",
   "metadata": {
    "slideshow": {
     "slide_type": "subslide"
    }
   },
   "source": [
    "## 聯結表格\n",
    "\n",
    "尋找 Harrison Ford 有出演的電影"
   ]
  },
  {
   "cell_type": "markdown",
   "metadata": {
    "slideshow": {
     "slide_type": "skip"
    }
   },
   "source": [
    "```sql\n",
    "SELECT movie.title\n",
    "    FROM movie\n",
    "    JOIN casting\n",
    "    ON movie.id = casting.movieid\n",
    "    JOIN actor\n",
    "    ON casting.actorid=actor.id\n",
    "    WHERE actor.name='Harrison Ford';\n",
    "```"
   ]
  },
  {
   "cell_type": "markdown",
   "metadata": {
    "slideshow": {
     "slide_type": "subslide"
    }
   },
   "source": [
    "## 聯結表格\n",
    "\n",
    "尋找 Harrison Ford 不是主角的電影（`casting.ord<>1`）"
   ]
  },
  {
   "cell_type": "markdown",
   "metadata": {
    "slideshow": {
     "slide_type": "skip"
    }
   },
   "source": [
    "```sql\n",
    "SELECT movie.title\n",
    "    FROM movie\n",
    "    JOIN casting\n",
    "    ON movie.id = casting.movieid\n",
    "    JOIN actor\n",
    "    ON casting.actorid=actor.id\n",
    "    WHERE actor.name='Harrison Ford' AND\n",
    "          casting.ord<>1;\n",
    "```"
   ]
  },
  {
   "cell_type": "markdown",
   "metadata": {
    "slideshow": {
     "slide_type": "subslide"
    }
   },
   "source": [
    "## 聯結表格\n",
    "\n",
    "查詢 1962 年所有電影的主角（`ord=1`）"
   ]
  },
  {
   "cell_type": "markdown",
   "metadata": {
    "slideshow": {
     "slide_type": "skip"
    }
   },
   "source": [
    "```sql\n",
    "SELECT movie.title,\n",
    "       actor.name\n",
    "    FROM movie\n",
    "    JOIN casting\n",
    "    ON movie.id = casting.movieid\n",
    "    JOIN actor\n",
    "    ON casting.actorid=actor.id\n",
    "    WHERE movie.yr=1962 AND\n",
    "          casting.ord=1;\n",
    "```"
   ]
  },
  {
   "cell_type": "markdown",
   "metadata": {
    "slideshow": {
     "slide_type": "subslide"
    }
   },
   "source": [
    "## 完成 10 個 SQLZOO 練習（1~10）\n",
    "\n",
    "https://sqlzoo.net/wiki/More_JOIN_operations"
   ]
  },
  {
   "cell_type": "markdown",
   "metadata": {
    "slideshow": {
     "slide_type": "slide"
    }
   },
   "source": [
    "## 左外部聯結\n",
    "\n",
    "- 留下所有左表格（台灣、日本）的資料\n",
    "\n",
    "```sql\n",
    "/*左表格*/\n",
    "SELECT * FROM world.country\n",
    "    WHERE Name IN ('Taiwan', 'Japan');\n",
    "\n",
    "/*右表格*/\n",
    "SELECT * FROM world.city\n",
    "    WHERE CountryCode IN ('TWN', 'KOR');\n",
    "```"
   ]
  },
  {
   "cell_type": "markdown",
   "metadata": {
    "slideshow": {
     "slide_type": "subslide"
    }
   },
   "source": [
    "## 左外部聯結（2）\n",
    "\n",
    "- 留下所有左表格（台灣、日本）的資料\n",
    "\n",
    "```sql\n",
    "/*左外部聯結*/\n",
    "SELECT left_tbl.*\n",
    "      ,right_tbl.*\n",
    "    FROM (\n",
    "        SELECT *\n",
    "        FROM world.country\n",
    "        WHERE Code IN ('TWN', 'JPN')\n",
    "    ) left_tbl\n",
    "    LEFT JOIN (\n",
    "        SELECT * FROM world.city\n",
    "        WHERE CountryCode IN ('TWN', 'KOR')\n",
    "    ) right_tbl\n",
    "    ON left_tbl.Code = right_tbl.CountryCode;\n",
    "```"
   ]
  },
  {
   "cell_type": "markdown",
   "metadata": {
    "slideshow": {
     "slide_type": "subslide"
    }
   },
   "source": [
    "## 右外部聯結\n",
    "\n",
    "- 留下所有右表格（台灣、南韓）的資料\n",
    "\n",
    "```sql\n",
    "/*左表格*/\n",
    "SELECT * FROM world.country\n",
    "    WHERE Name IN ('Taiwan', 'Japan');\n",
    "\n",
    "/*右表格*/\n",
    "SELECT * FROM world.city\n",
    "    WHERE CountryCode IN ('TWN', 'KOR');\n",
    "```"
   ]
  },
  {
   "cell_type": "markdown",
   "metadata": {
    "slideshow": {
     "slide_type": "subslide"
    }
   },
   "source": [
    "## 右外部聯結（2）\n",
    "\n",
    "- 留下所有右表格（台灣、南韓）的資料\n",
    "\n",
    "```sql\n",
    "/*右外部聯結*/\n",
    "SELECT left_tbl.*\n",
    "      ,right_tbl.*\n",
    "    FROM (\n",
    "        SELECT *\n",
    "        FROM world.country\n",
    "        WHERE Code IN ('TWN', 'JPN')\n",
    "    ) left_tbl\n",
    "    RIGHT JOIN (\n",
    "        SELECT * FROM world.city\n",
    "        WHERE CountryCode IN ('TWN', 'KOR')\n",
    "    ) right_tbl\n",
    "    ON left_tbl.Code = right_tbl.CountryCode;\n",
    "```"
   ]
  },
  {
   "cell_type": "markdown",
   "metadata": {
    "slideshow": {
     "slide_type": "slide"
    }
   },
   "source": [
    "## `UNION` 描述\n",
    "\n",
    "- `JOIN` 是屬於水平合併\n",
    "- `UNION` 是屬於垂直合併\n",
    "\n",
    "```sql\n",
    "SELECT Name\n",
    "    FROM world.country\n",
    "    WHERE Code = 'TWN'\n",
    "UNION\n",
    "SELECT Name\n",
    "    FROM world.city\n",
    "    WHERE CountryCode = 'TWN';\n",
    "```"
   ]
  }
 ],
 "metadata": {
  "celltoolbar": "Slideshow",
  "kernelspec": {
   "display_name": "Python 3",
   "language": "python",
   "name": "python3"
  },
  "language_info": {
   "codemirror_mode": {
    "name": "ipython",
    "version": 3
   },
   "file_extension": ".py",
   "mimetype": "text/x-python",
   "name": "python",
   "nbconvert_exporter": "python",
   "pygments_lexer": "ipython3",
   "version": "3.6.0"
  }
 },
 "nbformat": 4,
 "nbformat_minor": 2
}
