{
 "cells": [
  {
   "cell_type": "markdown",
   "metadata": {
    "slideshow": {
     "slide_type": "slide"
    }
   },
   "source": [
    "# SQL 應用\n",
    "\n",
    "## 郭耀仁"
   ]
  },
  {
   "cell_type": "markdown",
   "metadata": {
    "slideshow": {
     "slide_type": "slide"
    }
   },
   "source": [
    "## 計算一個衍生變數\n",
    "\n",
    "- 人均 GDP(GDP per Capita)\n",
    "\n",
    "```sql\n",
    "SELECT name,\n",
    "       gdp / population\n",
    "  FROM world;\n",
    "```"
   ]
  },
  {
   "cell_type": "markdown",
   "metadata": {
    "slideshow": {
     "slide_type": "subslide"
    }
   },
   "source": [
    "## AS 敘述\n",
    "\n",
    "- 為衍生變數取名\n",
    "\n",
    "```sql\n",
    "SELECT name,\n",
    "       gdp / population AS gdp_percap\n",
    "  FROM world;\n",
    "```"
   ]
  },
  {
   "cell_type": "markdown",
   "metadata": {
    "slideshow": {
     "slide_type": "subslide"
    }
   },
   "source": [
    "## AS 敘述在 WHERE 敘述中不能立刻使用\n",
    "\n",
    "- 錯誤\n",
    "\n",
    "```sql\n",
    "SELECT name,\n",
    "       gdp / population AS gdp_percap\n",
    "  FROM world\n",
    "  WHERE gdp_percap > 10000;\n",
    "```"
   ]
  },
  {
   "cell_type": "markdown",
   "metadata": {
    "slideshow": {
     "slide_type": "subslide"
    }
   },
   "source": [
    "## AS 敘述在 WHERE 敘述中不能立刻使用\n",
    "\n",
    "- 正確\n",
    "\n",
    "```sql\n",
    "SELECT name,\n",
    "       gdp / population AS gdp_percap\n",
    "  FROM world\n",
    "  WHERE gdp / population > 10000;\n",
    "```"
   ]
  },
  {
   "cell_type": "markdown",
   "metadata": {
    "slideshow": {
     "slide_type": "subslide"
    }
   },
   "source": [
    "## 使用函數\n",
    "\n",
    "- `ROUND(, decimal)` 函數可以調整小數點位數\n",
    "\n",
    "```sql\n",
    "SELECT name,\n",
    "       ROUND(gdp / population) AS gdp_percap\n",
    "  FROM world\n",
    "  WHERE gdp / population > 10000;\n",
    "```"
   ]
  },
  {
   "cell_type": "markdown",
   "metadata": {
    "slideshow": {
     "slide_type": "subslide"
    }
   },
   "source": [
    "## 使用函數\n",
    "\n",
    "- `ROUND(, decimal)` 函數可以調整小數點位數\n",
    "\n",
    "```sql\n",
    "SELECT name,\n",
    "       ROUND(gdp / population, 2) AS gdp_percap\n",
    "  FROM world\n",
    "  WHERE gdp / population > 10000;\n",
    "```"
   ]
  },
  {
   "cell_type": "markdown",
   "metadata": {
    "slideshow": {
     "slide_type": "subslide"
    }
   },
   "source": [
    "## 使用函數\n",
    "\n",
    "- `LENGTH()` 函數可以得知文字長度\n",
    "\n",
    "```sql\n",
    "SELECT name,\n",
    "       LENGTH(name)\n",
    "  FROM world;\n",
    "```"
   ]
  },
  {
   "cell_type": "markdown",
   "metadata": {
    "slideshow": {
     "slide_type": "subslide"
    }
   },
   "source": [
    "## 使用函數\n",
    "\n",
    "- `LEFT(, n)` 函數可以取出由左邊數來的 n 個文字\n",
    "\n",
    "```sql\n",
    "SELECT name,\n",
    "       LEFT(name, 3)\n",
    "  FROM world;\n",
    "```"
   ]
  },
  {
   "cell_type": "markdown",
   "metadata": {
    "slideshow": {
     "slide_type": "subslide"
    }
   },
   "source": [
    "## 使用函數\n",
    "\n",
    "- `CONCAT()` 函數可以連結文字\n",
    "\n",
    "```sql\n",
    "SELECT name,\n",
    "       CONCAT(name, ' ', continent)\n",
    "    FROM world\n",
    "    LIMIT 10;\n",
    "```"
   ]
  },
  {
   "cell_type": "markdown",
   "metadata": {
    "slideshow": {
     "slide_type": "subslide"
    }
   },
   "source": [
    "## WHERE 敘述：不等於\n",
    "\n",
    "- 使用 `<>` 比較運算子\n",
    "\n",
    "```sql\n",
    "SELECT name,\n",
    "       continent\n",
    "    FROM world\n",
    "    WHERE continent <> 'Asia' OR\n",
    "          continent <> 'North America';\n",
    "```"
   ]
  },
  {
   "cell_type": "markdown",
   "metadata": {
    "slideshow": {
     "slide_type": "subslide"
    }
   },
   "source": [
    "## WHERE 敘述：模糊比對\n",
    "\n",
    "- 使用 `%` 在條件中對文字做模糊比對\n",
    "- 使用 `LIKE` 敘述"
   ]
  },
  {
   "cell_type": "markdown",
   "metadata": {
    "slideshow": {
     "slide_type": "subslide"
    }
   },
   "source": [
    "## WHERE 敘述：模糊比對\n",
    "\n",
    "- 選出國名中有 `land` 的國家名\n",
    "\n",
    "```sql\n",
    "SELECT name\n",
    "    FROM world\n",
    "    WHERE name LIKE '%land%';\n",
    "```"
   ]
  },
  {
   "cell_type": "markdown",
   "metadata": {
    "slideshow": {
     "slide_type": "subslide"
    }
   },
   "source": [
    "## WHERE 敘述：NOT\n",
    "\n",
    "- 反轉 WHERE 條件\n",
    "\n",
    "```sql\n",
    "SELECT name,\n",
    "       continent\n",
    "    FROM world\n",
    "    WHERE continent NOT IN ('Asia', 'Europe', 'North America');\n",
    "```"
   ]
  },
  {
   "cell_type": "markdown",
   "metadata": {
    "slideshow": {
     "slide_type": "subslide"
    }
   },
   "source": [
    "## WHERE 敘述：小括號\n",
    "\n",
    "- 利用小括號達到類似四則運算中的優先效果\n",
    "\n",
    "```sql\n",
    "SELECT name,\n",
    "       continent,\n",
    "       population\n",
    "    FROM world\n",
    "    WHERE (continent = 'Asia' OR \n",
    "           continent = 'Europe') AND\n",
    "          population > 10000000;\n",
    "```"
   ]
  },
  {
   "cell_type": "markdown",
   "metadata": {
    "slideshow": {
     "slide_type": "subslide"
    }
   },
   "source": [
    "## 完成 13 個 SQLZOO 練習\n",
    "\n",
    "https://sqlzoo.net/wiki/SELECT_from_WORLD_Tutorial"
   ]
  },
  {
   "cell_type": "markdown",
   "metadata": {
    "slideshow": {
     "slide_type": "slide"
    }
   },
   "source": [
    "## `ORDER BY` 描述\n",
    "\n",
    "- 可以選擇依照某一個欄位排序查詢結果\n",
    "- 遞減排序：DESC\n",
    "- 找出人口數最多的前 10 個國家\n",
    "\n",
    "```sql\n",
    "SELECT name,\n",
    "       population\n",
    "  FROM world\n",
    "  ORDER BY population DESC\n",
    "  LIMIT 10;\n",
    "```"
   ]
  },
  {
   "cell_type": "markdown",
   "metadata": {
    "slideshow": {
     "slide_type": "subslide"
    }
   },
   "source": [
    "## `ORDER BY` 描述（2）\n",
    "\n",
    "- 找出歐洲土地面積最小的 10 個國家\n",
    "- 預設為遞增排序：ASC\n",
    "\n",
    "```sql\n",
    "SELECT name,\n",
    "       area\n",
    "  FROM world\n",
    "  WHERE continent = 'Europe'\n",
    "  ORDER BY area\n",
    "  LIMIT 10;\n",
    "```"
   ]
  },
  {
   "cell_type": "markdown",
   "metadata": {
    "slideshow": {
     "slide_type": "subslide"
    }
   },
   "source": [
    "## 子查詢\n",
    "\n",
    "- `SELECT` **within** `SELECT`\n",
    "- 找出人口數比俄國多的國家\n",
    "\n",
    "```sql\n",
    "/*先知道俄國人口有多少*/\n",
    "SELECT population\n",
    "FROM world\n",
    "WHERE name = 'Russia'; /*146000000*/\n",
    "\n",
    "/*然後再寫一個查詢*/\n",
    "SELECT name\n",
    "FROM world\n",
    "WHERE population > 146000000;\n",
    "```"
   ]
  },
  {
   "cell_type": "markdown",
   "metadata": {
    "slideshow": {
     "slide_type": "subslide"
    }
   },
   "source": [
    "## 子查詢（2）\n",
    "\n",
    "- 把兩個查詢寫在一個查詢中，這個就是 **子查詢 Sub-query**\n",
    "\n",
    "```sql\n",
    "SELECT name\n",
    "FROM world\n",
    "WHERE population > (\n",
    "    SELECT population\n",
    "        FROM world\n",
    "        WHERE name = 'Russia'\n",
    ");\n",
    "```"
   ]
  },
  {
   "cell_type": "markdown",
   "metadata": {
    "slideshow": {
     "slide_type": "subslide"
    }
   },
   "source": [
    "## 子查詢（3）\n",
    "\n",
    "- 找出人均 gdp 比英國高的**歐洲**國家\n",
    "\n",
    "```sql\n",
    "/*先知道英國人均 GDP 多少*/\n",
    "SELECT gdp/population\n",
    "FROM world\n",
    "WHERE name = 'United Kingdom'; /*38555.0739*/\n",
    "\n",
    "/*然後再寫一個查詢*/\n",
    "SELECT name\n",
    "FROM world\n",
    "WHERE continent = 'Europe' AND\n",
    "      gdp/population > 38555.0739;\n",
    "```"
   ]
  },
  {
   "cell_type": "markdown",
   "metadata": {
    "slideshow": {
     "slide_type": "subslide"
    }
   },
   "source": [
    "## 子查詢（4）\n",
    "\n",
    "- 把兩個查詢寫在一個查詢中，這個就是 **子查詢 Sub-query**\n",
    "\n",
    "```sql\n",
    "SELECT name\n",
    "FROM world\n",
    "WHERE continent = 'Europe' AND\n",
    "      gdp/population > (\n",
    "      SELECT gdp/population\n",
    "          FROM world\n",
    "          WHERE name = 'United Kingdom'\n",
    "      );\n",
    "```"
   ]
  },
  {
   "cell_type": "markdown",
   "metadata": {
    "slideshow": {
     "slide_type": "subslide"
    }
   },
   "source": [
    "## 子查詢（5）\n",
    "\n",
    "- 找出與阿根廷、澳洲同洲的國家、洲別\n",
    "\n",
    "```sql\n",
    "/*先知道阿根廷、澳洲在哪個洲*/\n",
    "SELECT continent\n",
    "FROM world\n",
    "WHERE name IN ('Argentina', 'Australia'); /*South America, Oceania*/\n",
    "\n",
    "/*然後再寫一個查詢*/\n",
    "SELECT name,\n",
    "       continent\n",
    "FROM world\n",
    "WHERE continent IN ('South America', 'Oceania');\n",
    "```"
   ]
  },
  {
   "cell_type": "markdown",
   "metadata": {
    "slideshow": {
     "slide_type": "subslide"
    }
   },
   "source": [
    "## 子查詢（6）\n",
    "\n",
    "- 把兩個查詢寫在一個查詢中，這個就是 **子查詢 Sub-query**\n",
    "\n",
    "```sql\n",
    "SELECT name,\n",
    "       continent\n",
    "FROM world\n",
    "WHERE continent IN (\n",
    "    SELECT continent\n",
    "        FROM world\n",
    "        WHERE name IN ('Argentina', 'Australia')\n",
    ");\n",
    "```"
   ]
  },
  {
   "cell_type": "markdown",
   "metadata": {
    "slideshow": {
     "slide_type": "subslide"
    }
   },
   "source": [
    "## 完成 5 個 SQLZOO 練習（1~5）\n",
    "\n",
    "https://sqlzoo.net/wiki/SELECT_within_SELECT_Tutorial"
   ]
  }
 ],
 "metadata": {
  "celltoolbar": "Slideshow",
  "kernelspec": {
   "display_name": "Python 3",
   "language": "python",
   "name": "python3"
  },
  "language_info": {
   "codemirror_mode": {
    "name": "ipython",
    "version": 3
   },
   "file_extension": ".py",
   "mimetype": "text/x-python",
   "name": "python",
   "nbconvert_exporter": "python",
   "pygments_lexer": "ipython3",
   "version": "3.6.0"
  }
 },
 "nbformat": 4,
 "nbformat_minor": 2
}
