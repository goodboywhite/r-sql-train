{
 "cells": [
  {
   "cell_type": "markdown",
   "metadata": {
    "slideshow": {
     "slide_type": "slide"
    }
   },
   "source": [
    "# SQL 應用\n",
    "\n",
    "## 郭耀仁"
   ]
  },
  {
   "cell_type": "markdown",
   "metadata": {
    "slideshow": {
     "slide_type": "slide"
    }
   },
   "source": [
    "## 計算一個衍生變數\n",
    "\n",
    "- 人均 GDP(GDP per Capita)\n",
    "\n",
    "```sql\n",
    "SELECT name,\n",
    "       gdp / population\n",
    "  FROM world;\n",
    "```"
   ]
  },
  {
   "cell_type": "markdown",
   "metadata": {
    "slideshow": {
     "slide_type": "subslide"
    }
   },
   "source": [
    "## AS 敘述\n",
    "\n",
    "- 為衍生變數取名\n",
    "\n",
    "```sql\n",
    "SELECT name,\n",
    "       gdp / population AS gdp_percap\n",
    "  FROM world;\n",
    "```"
   ]
  },
  {
   "cell_type": "markdown",
   "metadata": {
    "slideshow": {
     "slide_type": "subslide"
    }
   },
   "source": [
    "## AS 敘述在 WHERE 敘述中不能立刻使用\n",
    "\n",
    "- 錯誤\n",
    "\n",
    "```sql\n",
    "SELECT name,\n",
    "       gdp / population AS gdp_percap\n",
    "  FROM world\n",
    "  WHERE gdp_percap > 10000;\n",
    "```"
   ]
  },
  {
   "cell_type": "markdown",
   "metadata": {
    "slideshow": {
     "slide_type": "subslide"
    }
   },
   "source": [
    "## AS 敘述在 WHERE 敘述中不能立刻使用\n",
    "\n",
    "- 正確\n",
    "\n",
    "```sql\n",
    "SELECT name,\n",
    "       gdp / population AS gdp_percap\n",
    "  FROM world\n",
    "  WHERE gdp / population > 10000;\n",
    "```"
   ]
  },
  {
   "cell_type": "markdown",
   "metadata": {
    "slideshow": {
     "slide_type": "subslide"
    }
   },
   "source": [
    "## 使用函數\n",
    "\n",
    "- `ROUND(, decimal)` 函數可以調整小數點位數\n",
    "\n",
    "```sql\n",
    "SELECT name,\n",
    "       ROUND(gdp / population) AS gdp_percap\n",
    "  FROM world\n",
    "  WHERE gdp / population > 10000;\n",
    "```"
   ]
  },
  {
   "cell_type": "markdown",
   "metadata": {
    "slideshow": {
     "slide_type": "subslide"
    }
   },
   "source": [
    "## 使用函數\n",
    "\n",
    "- `ROUND(, decimal)` 函數可以調整小數點位數\n",
    "\n",
    "```sql\n",
    "SELECT name,\n",
    "       ROUND(gdp / population, 2) AS gdp_percap\n",
    "  FROM world\n",
    "  WHERE gdp / population > 10000;\n",
    "```"
   ]
  },
  {
   "cell_type": "markdown",
   "metadata": {
    "slideshow": {
     "slide_type": "subslide"
    }
   },
   "source": [
    "## 使用函數\n",
    "\n",
    "- `LENGTH()` 函數可以得知文字長度\n",
    "\n",
    "```sql\n",
    "SELECT name,\n",
    "       LENGTH(name)\n",
    "  FROM world;\n",
    "```"
   ]
  },
  {
   "cell_type": "markdown",
   "metadata": {
    "slideshow": {
     "slide_type": "subslide"
    }
   },
   "source": [
    "## 使用函數\n",
    "\n",
    "- `LEFT(, n)` 函數可以取出由左邊數來的 n 個文字\n",
    "\n",
    "```sql\n",
    "SELECT name,\n",
    "       LEFT(name, 3)\n",
    "  FROM world;\n",
    "```"
   ]
  },
  {
   "cell_type": "markdown",
   "metadata": {
    "slideshow": {
     "slide_type": "subslide"
    }
   },
   "source": [
    "## WHERE 敘述：不等於\n",
    "\n",
    "- 使用 `<>` 比較運算子\n",
    "\n",
    "```sql\n",
    "SELECT name,\n",
    "       continent\n",
    "    FROM world\n",
    "    WHERE continent <> 'Asia' OR\n",
    "          continent <> 'America';\n",
    "```"
   ]
  },
  {
   "cell_type": "markdown",
   "metadata": {
    "slideshow": {
     "slide_type": "subslide"
    }
   },
   "source": [
    "## WHERE 敘述：模糊比對\n",
    "\n",
    "- 使用 `%` 在條件中對文字做模糊比對\n",
    "- 使用 `LIKE` 敘述"
   ]
  },
  {
   "cell_type": "markdown",
   "metadata": {
    "slideshow": {
     "slide_type": "subslide"
    }
   },
   "source": [
    "## WHERE 敘述：模糊比對\n",
    "\n",
    "- 選出國名中有 `land` 的國家名\n",
    "\n",
    "```sql\n",
    "SELECT name\n",
    "    FROM world\n",
    "    WHERE name LIKE '%land%';\n",
    "```"
   ]
  },
  {
   "cell_type": "markdown",
   "metadata": {
    "slideshow": {
     "slide_type": "subslide"
    }
   },
   "source": [
    "## WHERE 敘述：NOT\n",
    "\n",
    "- 反轉 WHERE 條件\n",
    "\n",
    "```sql\n",
    "SELECT name,\n",
    "       continent\n",
    "    FROM world\n",
    "    WHERE continent NOT IN ('Asia', 'Europe', 'America');\n",
    "```"
   ]
  },
  {
   "cell_type": "markdown",
   "metadata": {
    "slideshow": {
     "slide_type": "subslide"
    }
   },
   "source": [
    "## WHERE 敘述：小括號\n",
    "\n",
    "- 利用小括號達到類似四則運算中的優先效果\n",
    "\n",
    "```sql\n",
    "SELECT name,\n",
    "       continent,\n",
    "       population\n",
    "    FROM world\n",
    "    WHERE (continent = 'Asia' OR \n",
    "           continent = 'Europe') AND\n",
    "          population > 10000000;\n",
    "```"
   ]
  },
  {
   "cell_type": "markdown",
   "metadata": {
    "slideshow": {
     "slide_type": "slide"
    }
   },
   "source": [
    "## 完成 13 個 SQLZOO 練習\n",
    "\n",
    "https://sqlzoo.net/wiki/SELECT_from_WORLD_Tutorial"
   ]
  }
 ],
 "metadata": {
  "celltoolbar": "Slideshow",
  "kernelspec": {
   "display_name": "Python 3",
   "language": "python",
   "name": "python3"
  },
  "language_info": {
   "codemirror_mode": {
    "name": "ipython",
    "version": 3
   },
   "file_extension": ".py",
   "mimetype": "text/x-python",
   "name": "python",
   "nbconvert_exporter": "python",
   "pygments_lexer": "ipython3",
   "version": "3.6.0"
  }
 },
 "nbformat": 4,
 "nbformat_minor": 2
}
