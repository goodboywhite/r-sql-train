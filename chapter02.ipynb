{
 "cells": [
  {
   "cell_type": "markdown",
   "metadata": {
    "slideshow": {
     "slide_type": "slide"
    }
   },
   "source": [
    "# SQL 進階\n",
    "\n",
    "## 郭耀仁"
   ]
  },
  {
   "cell_type": "markdown",
   "metadata": {
    "slideshow": {
     "slide_type": "slide"
    }
   },
   "source": [
    "## 一個典型的 SQL 查詢結構\n",
    "\n",
    "```sql\n",
    "SELECT ...\n",
    "  FROM ...\n",
    "  WHERE ...\n",
    "  GROUP BY ...\n",
    "  HAVING ...\n",
    "  ORDER BY ...\n",
    "```"
   ]
  },
  {
   "cell_type": "markdown",
   "metadata": {
    "slideshow": {
     "slide_type": "slide"
    }
   },
   "source": [
    "## `ORDER BY` 描述\n",
    "\n",
    "- 可以選擇依照某一個欄位排序查詢結果\n",
    "- 遞增排序：ASC\n",
    "- 遞減排序：DESC\n",
    "- 找出人口數排名前 10 的國家\n",
    "\n",
    "```sql\n",
    "SELECT Name\n",
    "    ,Population\n",
    "  FROM world.country\n",
    "  ORDER BY Population DESC\n",
    "  LIMIT 10;\n",
    "```"
   ]
  },
  {
   "cell_type": "markdown",
   "metadata": {
    "slideshow": {
     "slide_type": "subslide"
    }
   },
   "source": [
    "## `ORDER BY` 描述（2）\n",
    "\n",
    "- 找出歐洲土地面積最小的 10 個國家\n",
    "\n",
    "```sql\n",
    "SELECT Name\n",
    "    ,SurfaceArea\n",
    "  FROM world.country\n",
    "  WHERE Continent = 'Europe'\n",
    "  ORDER BY SurfaceArea ASC\n",
    "  LIMIT 10;\n",
    "```"
   ]
  },
  {
   "cell_type": "markdown",
   "metadata": {
    "slideshow": {
     "slide_type": "slide"
    }
   },
   "source": [
    "## `SUM()` 函數\n",
    "\n",
    "- 回傳加總值\n",
    "\n",
    "```sql\n",
    "SELECT SUM(population) AS Sum_Pop\n",
    "  FROM world.country;\n",
    "```"
   ]
  },
  {
   "cell_type": "markdown",
   "metadata": {
    "slideshow": {
     "slide_type": "subslide"
    }
   },
   "source": [
    "## `DISTINCT()` 函數\n",
    "\n",
    "- 回傳相異值\n",
    "\n",
    "```sql\n",
    "SELECT DISTINCT(continent)\n",
    "  FROM world.country;\n",
    "```"
   ]
  },
  {
   "cell_type": "markdown",
   "metadata": {
    "slideshow": {
     "slide_type": "subslide"
    }
   },
   "source": [
    "## `COUNT()` 函數\n",
    "\n",
    "- 計算有多少國家的人口超過 1 億\n",
    "\n",
    "```sql\n",
    "SELECT COUNT(*)\n",
    "  FROM world.country\n",
    "  WHERE Population > 100000000;\n",
    "```"
   ]
  },
  {
   "cell_type": "markdown",
   "metadata": {
    "slideshow": {
     "slide_type": "subslide"
    }
   },
   "source": [
    "## 其他常用數值函數\n",
    "\n",
    "- `AVG()`\n",
    "- `MAX()`\n",
    "- `MIN()`\n",
    "- ..."
   ]
  },
  {
   "cell_type": "markdown",
   "metadata": {
    "slideshow": {
     "slide_type": "subslide"
    }
   },
   "source": [
    "## `SUBSTR()` 函數\n",
    "\n",
    "- 擷取某部分的文字\n",
    "\n",
    "```sql\n",
    "SELECT SUBSTR(Name, 1, 3) AS Sub_Name\n",
    "    ,Name\n",
    "    FROM world.country\n",
    "    LIMIT 10;\n",
    "```"
   ]
  },
  {
   "cell_type": "markdown",
   "metadata": {
    "slideshow": {
     "slide_type": "subslide"
    }
   },
   "source": [
    "## `CONCAT()` 函數\n",
    "\n",
    "- 連結文字\n",
    "\n",
    "```sql\n",
    "SELECT Name \n",
    "    ,CONCAT(Region, ', ', Continent) AS Reg_Cont\n",
    "    FROM world.country\n",
    "    LIMIT 10;\n",
    "```"
   ]
  },
  {
   "cell_type": "markdown",
   "metadata": {
    "slideshow": {
     "slide_type": "subslide"
    }
   },
   "source": [
    "## `UPPER()` 函數\n",
    "\n",
    "- 轉換文字為大寫\n",
    "\n",
    "```sql\n",
    "SELECT UPPER(Name) AS Cap_Name\n",
    "    , Name\n",
    "    FROM world.country\n",
    "    LIMIT 10;\n",
    "```"
   ]
  },
  {
   "cell_type": "markdown",
   "metadata": {
    "slideshow": {
     "slide_type": "subslide"
    }
   },
   "source": [
    "## 其他常用文字函數\n",
    "\n",
    "- `TRIM()`\n",
    "- `LENGTH()`\n",
    "- `LOWER()`\n",
    "- `REVERSE()`\n",
    "- ..."
   ]
  },
  {
   "cell_type": "markdown",
   "metadata": {
    "slideshow": {
     "slide_type": "slide"
    }
   },
   "source": [
    "## `GROUP BY`\n",
    "\n",
    "- `SUM()` 函數加入 `GROUP BY` 敘述\n",
    "- 計算各個 Continent 的人口總數\n",
    "\n",
    "```sql\n",
    "SELECT Continent\n",
    "       ,SUM(population) AS Sum_Pop\n",
    "  FROM world.country\n",
    "  GROUP BY Continent;\n",
    "```"
   ]
  },
  {
   "cell_type": "markdown",
   "metadata": {
    "slideshow": {
     "slide_type": "subslide"
    }
   },
   "source": [
    "## `GROUP BY`（2）\n",
    "\n",
    "- `COUNT()` 函數加入 `GROUP BY` 敘述\n",
    "- 計算各個 Continent 的國家數\n",
    "\n",
    "```sql\n",
    "SELECT Continent\n",
    "       ,COUNT(*) AS Number_of_Countries\n",
    "  FROM world.country\n",
    "  GROUP BY Continent;\n",
    "```"
   ]
  },
  {
   "cell_type": "markdown",
   "metadata": {
    "slideshow": {
     "slide_type": "subslide"
    }
   },
   "source": [
    "## `GROUP BY`（3）\n",
    "\n",
    "- `COUNT()` 函數加入 `GROUP BY` 敘述\n",
    "- 計算各個 Region 人口超過 1 千萬的國家數\n",
    "\n",
    "```sql\n",
    "SELECT Region\n",
    "       ,COUNT(*) AS Number_of_Countries\n",
    "  FROM world.country\n",
    "  WHERE Population > 10000000\n",
    "  GROUP BY Region;\n",
    "```"
   ]
  },
  {
   "cell_type": "markdown",
   "metadata": {
    "slideshow": {
     "slide_type": "slide"
    }
   },
   "source": [
    "## `HAVING`\n",
    "\n",
    "- 針對聚合函數下條件\n",
    "- 找出總人口數超過 1 億的洲（Continent）\n",
    "\n",
    "```sql\n",
    "/*錯誤*/\n",
    "SELECT Continent\n",
    "       ,SUM(Population) AS Sum_of_Population\n",
    "  FROM world.country\n",
    "  GROUP BY Continent\n",
    "  WHERE Sum_of_Population > 100000000;\n",
    "```"
   ]
  },
  {
   "cell_type": "markdown",
   "metadata": {
    "slideshow": {
     "slide_type": "subslide"
    }
   },
   "source": [
    "## `HAVING`（2）\n",
    "\n",
    "- 針對聚合函數下條件\n",
    "- 找出總人口數超過 1 億的洲（Continent）\n",
    "\n",
    "```sql\n",
    "/*正確*/\n",
    "SELECT Continent\n",
    "       ,SUM(Population) AS Sum_of_Population\n",
    "  FROM world.country\n",
    "  GROUP BY Continent\n",
    "  Having Sum_of_Population > 100000000;\n",
    "```"
   ]
  },
  {
   "cell_type": "markdown",
   "metadata": {
    "slideshow": {
     "slide_type": "slide"
    }
   },
   "source": [
    "## 子查詢\n",
    "\n",
    "- `SELECT` **within** `SELECT`\n",
    "- 找出人口數比美國多的國家：\n",
    "\n",
    "```sql\n",
    "SELECT Name\n",
    "  FROM world.country\n",
    "  WHERE Population > (\n",
    "    SELECT Population\n",
    "      FROM world.country\n",
    "      WHERE Code = 'USA'\n",
    "  );\n",
    "```"
   ]
  },
  {
   "cell_type": "markdown",
   "metadata": {
    "slideshow": {
     "slide_type": "subslide"
    }
   },
   "source": [
    "## 子查詢（2）\n",
    "\n",
    "- 找出跟 Brazil 屬於同一個洲的國家：\n",
    "\n",
    "```sql\n",
    "SELECT Name\n",
    "  FROM world.country\n",
    "  WHERE Continent = (\n",
    "    SELECT Continent\n",
    "      FROM world.country\n",
    "      WHERE Name = 'Brazil'\n",
    "  );\n",
    "```"
   ]
  },
  {
   "cell_type": "markdown",
   "metadata": {
    "slideshow": {
     "slide_type": "slide"
    }
   },
   "source": [
    "## `JOIN` 描述\n",
    "\n",
    "- 也許是關聯式資料庫最重要的技巧！\n",
    "- 聯結的種類：\n",
    "    - Inner Join（內部聯結）\n",
    "    - Left Join（左外部聯結）\n",
    "    - Right Join（右外部聯結）\n",
    "    - Full Join（全外部聯結）（MySQL 不支援）"
   ]
  },
  {
   "cell_type": "markdown",
   "metadata": {
    "slideshow": {
     "slide_type": "subslide"
    }
   },
   "source": [
    "## 內部聯結\n",
    "\n",
    "- 取左表格（台灣、日本）跟右表格（台灣、南韓）的交集（台灣）\n",
    "\n",
    "```sql\n",
    "/*左表格*/\n",
    "SELECT * FROM world.country\n",
    "    WHERE Name IN ('Taiwan', 'Japan');\n",
    "\n",
    "/*右表格*/\n",
    "SELECT * FROM world.city\n",
    "    WHERE CountryCode IN ('TWN', 'KOR');\n",
    "```"
   ]
  },
  {
   "cell_type": "markdown",
   "metadata": {
    "slideshow": {
     "slide_type": "subslide"
    }
   },
   "source": [
    "## 內部聯結（2）\n",
    "\n",
    "- 取左表格（台灣、日本）跟右表格（台灣、南韓）的交集（台灣）\n",
    "\n",
    "```sql\n",
    "/*內部聯結*/\n",
    "SELECT left_tbl.*\n",
    "      ,right_tbl.*\n",
    "    FROM (\n",
    "        SELECT *\n",
    "        FROM world.country\n",
    "        WHERE Code IN ('TWN', 'JPN')\n",
    "    ) left_tbl\n",
    "    INNER JOIN (\n",
    "        SELECT * FROM world.city\n",
    "        WHERE CountryCode IN ('TWN', 'KOR')\n",
    "    ) right_tbl\n",
    "    ON left_tbl.Code = right_tbl.CountryCode;\n",
    "```"
   ]
  },
  {
   "cell_type": "markdown",
   "metadata": {
    "slideshow": {
     "slide_type": "subslide"
    }
   },
   "source": [
    "## 左外部聯結\n",
    "\n",
    "- 留下所有左表格（台灣、日本）的資料\n",
    "\n",
    "```sql\n",
    "/*左表格*/\n",
    "SELECT * FROM world.country\n",
    "    WHERE Name IN ('Taiwan', 'Japan');\n",
    "\n",
    "/*右表格*/\n",
    "SELECT * FROM world.city\n",
    "    WHERE CountryCode IN ('TWN', 'KOR');\n",
    "```"
   ]
  },
  {
   "cell_type": "markdown",
   "metadata": {
    "slideshow": {
     "slide_type": "subslide"
    }
   },
   "source": [
    "## 左外部聯結（2）\n",
    "\n",
    "- 留下所有左表格（台灣、日本）的資料\n",
    "\n",
    "```sql\n",
    "/*左外部聯結*/\n",
    "SELECT left_tbl.*\n",
    "      ,right_tbl.*\n",
    "    FROM (\n",
    "        SELECT *\n",
    "        FROM world.country\n",
    "        WHERE Code IN ('TWN', 'JPN')\n",
    "    ) left_tbl\n",
    "    LEFT JOIN (\n",
    "        SELECT * FROM world.city\n",
    "        WHERE CountryCode IN ('TWN', 'KOR')\n",
    "    ) right_tbl\n",
    "    ON left_tbl.Code = right_tbl.CountryCode;\n",
    "```"
   ]
  },
  {
   "cell_type": "markdown",
   "metadata": {
    "slideshow": {
     "slide_type": "subslide"
    }
   },
   "source": [
    "## 右外部聯結\n",
    "\n",
    "- 留下所有右表格（台灣、南韓）的資料\n",
    "\n",
    "```sql\n",
    "/*左表格*/\n",
    "SELECT * FROM world.country\n",
    "    WHERE Name IN ('Taiwan', 'Japan');\n",
    "\n",
    "/*右表格*/\n",
    "SELECT * FROM world.city\n",
    "    WHERE CountryCode IN ('TWN', 'KOR');\n",
    "```"
   ]
  },
  {
   "cell_type": "markdown",
   "metadata": {
    "slideshow": {
     "slide_type": "subslide"
    }
   },
   "source": [
    "## 右外部聯結（2）\n",
    "\n",
    "- 留下所有右表格（台灣、南韓）的資料\n",
    "\n",
    "```sql\n",
    "/*右外部聯結*/\n",
    "SELECT left_tbl.*\n",
    "      ,right_tbl.*\n",
    "    FROM (\n",
    "        SELECT *\n",
    "        FROM world.country\n",
    "        WHERE Code IN ('TWN', 'JPN')\n",
    "    ) left_tbl\n",
    "    RIGHT JOIN (\n",
    "        SELECT * FROM world.city\n",
    "        WHERE CountryCode IN ('TWN', 'KOR')\n",
    "    ) right_tbl\n",
    "    ON left_tbl.Code = right_tbl.CountryCode;\n",
    "```"
   ]
  },
  {
   "cell_type": "markdown",
   "metadata": {
    "slideshow": {
     "slide_type": "slide"
    }
   },
   "source": [
    "## `UNION` 描述\n",
    "\n",
    "- `JOIN` 是屬於水平合併\n",
    "- `UNION` 是屬於垂直合併\n",
    "\n",
    "```sql\n",
    "SELECT Name\n",
    "    FROM world.country\n",
    "    WHERE Code = 'TWN'\n",
    "UNION\n",
    "SELECT Name\n",
    "    FROM world.city\n",
    "    WHERE CountryCode = 'TWN';\n",
    "```"
   ]
  },
  {
   "cell_type": "markdown",
   "metadata": {
    "slideshow": {
     "slide_type": "slide"
    }
   },
   "source": [
    "## 隨堂練習\n",
    "\n",
    "- 請寫出能夠產出以下結果的 SQL 查詢：\n",
    "\n",
    "![](img/chapter0201.png)"
   ]
  },
  {
   "cell_type": "markdown",
   "metadata": {
    "slideshow": {
     "slide_type": "subslide"
    }
   },
   "source": [
    "## 隨堂練習（2）\n",
    "\n",
    "- 請寫出能夠產出以下結果的 SQL 查詢：\n",
    "\n",
    "![](img/chapter0202.png)"
   ]
  },
  {
   "cell_type": "markdown",
   "metadata": {
    "slideshow": {
     "slide_type": "subslide"
    }
   },
   "source": [
    "## 隨堂練習（3）\n",
    "\n",
    "- 找出跟阿根廷（Argentina）或澳大利亞（Australia）同一個洲的國家，並以國家名稱排序：\n",
    "\n",
    "![](img/chapter0203.png)"
   ]
  },
  {
   "cell_type": "markdown",
   "metadata": {
    "slideshow": {
     "slide_type": "subslide"
    }
   },
   "source": [
    "## 隨堂練習（4）\n",
    "\n",
    "- 請寫出能夠產出以下結果的 SQL 查詢：\n",
    "\n",
    "![](img/chapter0204.png)"
   ]
  },
  {
   "cell_type": "markdown",
   "metadata": {
    "slideshow": {
     "slide_type": "subslide"
    }
   },
   "source": [
    "## 隨堂練習（5）\n",
    "\n",
    "- 請寫出能夠產出以下結果的 SQL 查詢：\n",
    "\n",
    "![](img/chapter0205.png)"
   ]
  }
 ],
 "metadata": {
  "celltoolbar": "Slideshow",
  "kernelspec": {
   "display_name": "Python 3",
   "language": "python",
   "name": "python3"
  },
  "language_info": {
   "codemirror_mode": {
    "name": "ipython",
    "version": 3
   },
   "file_extension": ".py",
   "mimetype": "text/x-python",
   "name": "python",
   "nbconvert_exporter": "python",
   "pygments_lexer": "ipython3",
   "version": "3.6.0"
  }
 },
 "nbformat": 4,
 "nbformat_minor": 2
}
