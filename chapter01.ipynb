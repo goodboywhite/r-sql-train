{
 "cells": [
  {
   "cell_type": "markdown",
   "metadata": {
    "slideshow": {
     "slide_type": "slide"
    }
   },
   "source": [
    "# SQL 基礎\n",
    "\n",
    "## 郭耀仁"
   ]
  },
  {
   "cell_type": "markdown",
   "metadata": {
    "slideshow": {
     "slide_type": "slide"
    }
   },
   "source": [
    "# 什麼是 SQL"
   ]
  },
  {
   "cell_type": "markdown",
   "metadata": {
    "slideshow": {
     "slide_type": "subslide"
    }
   },
   "source": [
    "## SQL 是縮寫\n",
    "\n",
    "- Structured Query Language\n",
    "- 查詢資料庫的語言"
   ]
  },
  {
   "cell_type": "markdown",
   "metadata": {
    "slideshow": {
     "slide_type": "subslide"
    }
   },
   "source": [
    "## 資料庫系統\n",
    "\n",
    "- 商業\n",
    "    - Microsoft SQL Server\n",
    "    - Oracle\n",
    "    - IBM DB2\n",
    "- 開源\n",
    "    - **MySQL**（這門課所使用的）\n",
    "    - PostgreSQL\n",
    "    - MongoDB"
   ]
  },
  {
   "cell_type": "markdown",
   "metadata": {
    "slideshow": {
     "slide_type": "slide"
    }
   },
   "source": [
    "# 如何連結資料庫"
   ]
  },
  {
   "cell_type": "markdown",
   "metadata": {
    "slideshow": {
     "slide_type": "subslide"
    }
   },
   "source": [
    "## 使用虛擬機器（Virtual Machine）\n",
    "\n",
    "- 我們使用 [MySQL Workbench](https://www.mysql.com/products/workbench/)\n",
    "- 為避免安裝問題，下載已經建立好的映像檔：\n",
    "    - [32-bit 版本](https://storage.googleapis.com/csiersql/r-sql-train-32.zip)\n",
    "    - [64-bit 版本](https://storage.googleapis.com/csiersql/r-sql-train-64.zip)"
   ]
  },
  {
   "cell_type": "markdown",
   "metadata": {
    "slideshow": {
     "slide_type": "subslide"
    }
   },
   "source": [
    "## 如果您在自己的電腦成功安裝了 MySQL Workbench\n",
    "\n",
    "- 下載這三個憑證：\n",
    "    - [SSL Key](https://storage.googleapis.com/csiersql/client-key.pem)\n",
    "    - [SSL CERT](https://storage.googleapis.com/csiersql/client-cert.pem)\n",
    "    - [SSL CA](https://storage.googleapis.com/csiersql/server-ca.pem)"
   ]
  },
  {
   "cell_type": "markdown",
   "metadata": {
    "slideshow": {
     "slide_type": "subslide"
    }
   },
   "source": [
    "## 設定虛擬機器\n",
    "\n",
    "- 開啟桌面上的 Virtual Box 捷徑\n",
    "\n",
    "![](img/vbox.png)\n",
    "\n",
    "![](img/chapter0110.png)"
   ]
  },
  {
   "cell_type": "markdown",
   "metadata": {
    "slideshow": {
     "slide_type": "subslide"
    }
   },
   "source": [
    "## 設定虛擬機器（2）\n",
    "\n",
    "![](img/chapter0111.png)"
   ]
  },
  {
   "cell_type": "markdown",
   "metadata": {
    "slideshow": {
     "slide_type": "subslide"
    }
   },
   "source": [
    "## 設定虛擬機器（3）\n",
    "\n",
    "![](img/chapter0112.png)"
   ]
  },
  {
   "cell_type": "markdown",
   "metadata": {
    "slideshow": {
     "slide_type": "subslide"
    }
   },
   "source": [
    "## 設定虛擬機器（4）\n",
    "\n",
    "![](img/chapter0113.png)"
   ]
  },
  {
   "cell_type": "markdown",
   "metadata": {
    "slideshow": {
     "slide_type": "subslide"
    }
   },
   "source": [
    "## 設定虛擬機器（5）\n",
    "\n",
    "- 點選啟動\n",
    "\n",
    "![](img/chapter0114.png)"
   ]
  },
  {
   "cell_type": "markdown",
   "metadata": {
    "slideshow": {
     "slide_type": "subslide"
    }
   },
   "source": [
    "## 設定虛擬機器（6）\n",
    "\n",
    "- 輸入密碼\n",
    "\n",
    "![](img/chapter0115.png)"
   ]
  },
  {
   "cell_type": "markdown",
   "metadata": {
    "slideshow": {
     "slide_type": "subslide"
    }
   },
   "source": [
    "## 執行 MySQL Workbench\n",
    "\n",
    "![](img/chapter0116.png)"
   ]
  },
  {
   "cell_type": "markdown",
   "metadata": {
    "slideshow": {
     "slide_type": "subslide"
    }
   },
   "source": [
    "## 設定連線資訊\n",
    "\n",
    "- 新增連線\n",
    "\n",
    "![](img/chapter0101.png)"
   ]
  },
  {
   "cell_type": "markdown",
   "metadata": {
    "slideshow": {
     "slide_type": "subslide"
    }
   },
   "source": [
    "## 設定連線資訊（2）\n",
    "\n",
    "- Hostname: 35.189.143.131\n",
    "- Port: 3306\n",
    "- Username: student\n",
    "\n",
    "![](img/chapter0102.png)"
   ]
  },
  {
   "cell_type": "markdown",
   "metadata": {
    "slideshow": {
     "slide_type": "subslide"
    }
   },
   "source": [
    "## 設定連線資訊（3）\n",
    "\n",
    "- 依序輸入已經下載好的憑證路徑\n",
    "\n",
    "![](img/chapter0103.png)"
   ]
  },
  {
   "cell_type": "markdown",
   "metadata": {
    "slideshow": {
     "slide_type": "subslide"
    }
   },
   "source": [
    "## 設定連線資訊（4）\n",
    "\n",
    "- 雙擊連線或按右鍵開啟連線\n",
    "\n",
    "![](img/chapter0104.png)"
   ]
  },
  {
   "cell_type": "markdown",
   "metadata": {
    "slideshow": {
     "slide_type": "subslide"
    }
   },
   "source": [
    "## 設定連線資訊（5）\n",
    "\n",
    "- 輸入密碼\n",
    "\n",
    "![](img/chapter0105.png)"
   ]
  },
  {
   "cell_type": "markdown",
   "metadata": {
    "slideshow": {
     "slide_type": "subslide"
    }
   },
   "source": [
    "## 設定連線資訊（6）\n",
    "\n",
    "- Congrats, we are ALL set!\n",
    "\n",
    "![](img/chapter0106.png)"
   ]
  },
  {
   "cell_type": "markdown",
   "metadata": {
    "slideshow": {
     "slide_type": "slide"
    }
   },
   "source": [
    "# SQL 指令"
   ]
  },
  {
   "cell_type": "markdown",
   "metadata": {
    "slideshow": {
     "slide_type": "subslide"
    }
   },
   "source": [
    "## `SHOW`\n",
    "\n",
    "```\n",
    "SHOW DATABASES;\n",
    "```"
   ]
  },
  {
   "cell_type": "markdown",
   "metadata": {
    "slideshow": {
     "slide_type": "subslide"
    }
   },
   "source": [
    "## `USE` and `SHOW`\n",
    "\n",
    "```\n",
    "USE world;\n",
    "SHOW TABLES;\n",
    "```"
   ]
  },
  {
   "cell_type": "markdown",
   "metadata": {
    "slideshow": {
     "slide_type": "subslide"
    }
   },
   "source": [
    "## 階層關係\n",
    "\n",
    "- 資料庫系統\n",
    "    - 資料庫\n",
    "        - 表格"
   ]
  },
  {
   "cell_type": "markdown",
   "metadata": {
    "slideshow": {
     "slide_type": "slide"
    }
   },
   "source": [
    "# 基礎的 SQL 查詢"
   ]
  },
  {
   "cell_type": "markdown",
   "metadata": {
    "slideshow": {
     "slide_type": "subslide"
    }
   },
   "source": [
    "## 一個典型的 SQL 查詢結構\n",
    "\n",
    "```\n",
    "SELECT ...\n",
    "  FROM ...\n",
    "  WHERE ...\n",
    "  GROUP BY ...\n",
    "  HAVING ...\n",
    "  ORDER BY ...\n",
    "```"
   ]
  },
  {
   "cell_type": "markdown",
   "metadata": {
    "slideshow": {
     "slide_type": "slide"
    }
   },
   "source": [
    "## `SELECT` 與 `FROM`\n",
    "\n",
    "- `*` 意指**所有的欄位**\n",
    "\n",
    "```\n",
    "SELECT *\n",
    "  FROM world.country;\n",
    "```\n",
    "\n",
    "或者\n",
    "\n",
    "```\n",
    "USE world;\n",
    "SELECT *\n",
    "  FROM country;\n",
    "```"
   ]
  },
  {
   "cell_type": "markdown",
   "metadata": {
    "slideshow": {
     "slide_type": "subslide"
    }
   },
   "source": [
    "## `SELECT` 與 `FROM`（2）\n",
    "\n",
    "- **（重要！）**養成先選幾列出來觀察的好習慣\n",
    "\n",
    "```\n",
    "SELECT *\n",
    "  FROM world.country\n",
    "  LIMIT 10;\n",
    "```"
   ]
  },
  {
   "cell_type": "markdown",
   "metadata": {
    "slideshow": {
     "slide_type": "subslide"
    }
   },
   "source": [
    "## `SELECT` 與 `FROM`（3）\n",
    "\n",
    "- 選指定的欄位\n",
    "\n",
    "```\n",
    "SELECT Name\n",
    "       ,Continent\n",
    "       ,Population\n",
    "  FROM world.country;\n",
    "```"
   ]
  },
  {
   "cell_type": "markdown",
   "metadata": {
    "slideshow": {
     "slide_type": "subslide"
    }
   },
   "source": [
    "## `SELECT` 與 `FROM`（4）\n",
    "\n",
    "- `COUNT(*)` 計算表格有幾列\n",
    "\n",
    "```\n",
    "SELECT COUNT(*)\n",
    "  FROM world.country;\n",
    "```"
   ]
  },
  {
   "cell_type": "markdown",
   "metadata": {
    "slideshow": {
     "slide_type": "subslide"
    }
   },
   "source": [
    "## `SELECT` 與 `FROM`（5）\n",
    "\n",
    "- 計算表格有幾個欄位\n",
    "\n",
    "```\n",
    "SELECT COUNT(*)\n",
    "  FROM information_schema.columns\n",
    "  WHERE table_name = 'country';\n",
    "```"
   ]
  },
  {
   "cell_type": "markdown",
   "metadata": {
    "slideshow": {
     "slide_type": "subslide"
    }
   },
   "source": [
    "## `SELECT` 與 `FROM`（6）\n",
    "\n",
    "- 計算衍生欄位\n",
    "\n",
    "```\n",
    "SELECT *\n",
    "       ,Population/SurfaceArea AS Density\n",
    "  FROM world.country;\n",
    "```"
   ]
  },
  {
   "cell_type": "markdown",
   "metadata": {
    "slideshow": {
     "slide_type": "slide"
    }
   },
   "source": [
    "## `WHERE`\n",
    "\n",
    "- 把 `Taiwan` 選出來\n",
    "\n",
    "```\n",
    "SELECT *\n",
    "  FROM world.country\n",
    "  WHERE Name = 'Taiwan';\n",
    "```"
   ]
  },
  {
   "cell_type": "markdown",
   "metadata": {
    "slideshow": {
     "slide_type": "subslide"
    }
   },
   "source": [
    "## `WHERE`（2）\n",
    "\n",
    "- 選擇多個國家，使用 `IN` 這個關鍵字\n",
    "\n",
    "```\n",
    "SELECT *\n",
    "  FROM world.country\n",
    "  WHERE Name IN ('Taiwan', 'Japan', 'South Korea');\n",
    "```"
   ]
  },
  {
   "cell_type": "markdown",
   "metadata": {
    "slideshow": {
     "slide_type": "subslide"
    }
   },
   "source": [
    "## `WHERE`（3）\n",
    "\n",
    "- 負面表列，使用 `NOT IN` 這個關鍵字\n",
    "\n",
    "```\n",
    "SELECT *\n",
    "  FROM world.country\n",
    "  WHERE Continent NOT IN ('Asia', 'Africa', 'Oceania', 'Europe', 'Antarctica');\n",
    "```"
   ]
  },
  {
   "cell_type": "markdown",
   "metadata": {
    "slideshow": {
     "slide_type": "subslide"
    }
   },
   "source": [
    "## `WHERE`（4）\n",
    "\n",
    "- 使用 `>` 來找出人口超過 2 億的國家\n",
    "\n",
    "```\n",
    "SELECT *\n",
    "  FROM world.country\n",
    "  WHERE Population > 200000000;\n",
    "```"
   ]
  },
  {
   "cell_type": "markdown",
   "metadata": {
    "slideshow": {
     "slide_type": "subslide"
    }
   },
   "source": [
    "## `WHERE`（5）\n",
    "\n",
    "- 使用 `BETWEEN` 找出人口介於 100 與 1 萬的國家\n",
    "\n",
    "```\n",
    "SELECT *\n",
    "  FROM world.country\n",
    "  WHERE Population BETWEEN 100 AND 10000;\n",
    "```"
   ]
  },
  {
   "cell_type": "markdown",
   "metadata": {
    "slideshow": {
     "slide_type": "subslide"
    }
   },
   "source": [
    "## `WHERE`（6）\n",
    "\n",
    "- 使用 `LIKE` 與 `%` 對字串進行模糊比對\n",
    "- United 開頭的國家\n",
    "\n",
    "```\n",
    "SELECT *\n",
    "  FROM world.country\n",
    "  WHERE Name LIKE 'United%';\n",
    "```"
   ]
  },
  {
   "cell_type": "markdown",
   "metadata": {
    "slideshow": {
     "slide_type": "subslide"
    }
   },
   "source": [
    "## `WHERE`（7）\n",
    "\n",
    "- 使用 `LIKE` 與 `%` 對字串進行模糊比對\n",
    "- land 結尾的國家\n",
    "\n",
    "```\n",
    "SELECT *\n",
    "  FROM world.country\n",
    "  WHERE Name LIKE '%land';\n",
    "```"
   ]
  },
  {
   "cell_type": "markdown",
   "metadata": {
    "slideshow": {
     "slide_type": "subslide"
    }
   },
   "source": [
    "## `WHERE`（8）\n",
    "\n",
    "- 使用 `LIKE` 與 `%` 對字串進行模糊比對\n",
    "- T 開頭 n 結尾的國家\n",
    "\n",
    "```\n",
    "SELECT *\n",
    "  FROM world.country\n",
    "  WHERE Name LIKE 'T%n';\n",
    "```"
   ]
  },
  {
   "cell_type": "markdown",
   "metadata": {
    "slideshow": {
     "slide_type": "subslide"
    }
   },
   "source": [
    "## `WHERE`（9）\n",
    "\n",
    "- 使用 `LIKE` 與 `_` 對字串進行模糊比對\n",
    "- 找出剛好由四個字母組成的國家\n",
    "\n",
    "```\n",
    "SELECT *\n",
    "  FROM world.country\n",
    "  WHERE Name LIKE '____';\n",
    "```"
   ]
  },
  {
   "cell_type": "markdown",
   "metadata": {
    "slideshow": {
     "slide_type": "subslide"
    }
   },
   "source": [
    "## `WHERE`（10）\n",
    "\n",
    "- 使用 `AND` **交集**兩個以上的條件\n",
    "\n",
    "```\n",
    "SELECT *\n",
    "  FROM world.country\n",
    "  WHERE Name LIKE '____'\n",
    "    AND Continent = 'Asia';\n",
    "```"
   ]
  },
  {
   "cell_type": "markdown",
   "metadata": {
    "slideshow": {
     "slide_type": "subslide"
    }
   },
   "source": [
    "## `WHERE`（11）\n",
    "\n",
    "- 使用 `OR` **聯集**兩個以上的條件\n",
    "\n",
    "```\n",
    "SELECT *\n",
    "  FROM world.country\n",
    "  WHERE Population > 200000000\n",
    "    OR Population < 100;\n",
    "```"
   ]
  },
  {
   "cell_type": "markdown",
   "metadata": {
    "slideshow": {
     "slide_type": "slide"
    }
   },
   "source": [
    "## 隨堂練習\n",
    "\n",
    "- 請寫出能夠產出以下結果的 SQL 查詢：\n",
    "\n",
    "![](img/chapter0107.png)"
   ]
  },
  {
   "cell_type": "markdown",
   "metadata": {
    "slideshow": {
     "slide_type": "subslide"
    }
   },
   "source": [
    "## 隨堂練習（2）\n",
    "\n",
    "- 請寫出能夠產出以下結果的 SQL 查詢：\n",
    "\n",
    "![](img/chapter0108.png)"
   ]
  },
  {
   "cell_type": "markdown",
   "metadata": {
    "slideshow": {
     "slide_type": "subslide"
    }
   },
   "source": [
    "## 隨堂練習（3）\n",
    "\n",
    "- 請寫出能夠產出以下結果的 SQL 查詢：\n",
    "\n",
    "![](img/chapter0109.png)"
   ]
  }
 ],
 "metadata": {
  "celltoolbar": "Slideshow",
  "kernelspec": {
   "display_name": "Python 3",
   "language": "python",
   "name": "python3"
  },
  "language_info": {
   "codemirror_mode": {
    "name": "ipython",
    "version": 3
   },
   "file_extension": ".py",
   "mimetype": "text/x-python",
   "name": "python",
   "nbconvert_exporter": "python",
   "pygments_lexer": "ipython3",
   "version": "3.6.0"
  }
 },
 "nbformat": 4,
 "nbformat_minor": 2
}
