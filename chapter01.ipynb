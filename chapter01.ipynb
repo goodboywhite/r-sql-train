{
 "cells": [
  {
   "cell_type": "markdown",
   "metadata": {
    "slideshow": {
     "slide_type": "slide"
    }
   },
   "source": [
    "# SQL 基礎\n",
    "\n",
    "## 郭耀仁"
   ]
  },
  {
   "cell_type": "markdown",
   "metadata": {
    "slideshow": {
     "slide_type": "slide"
    }
   },
   "source": [
    "# 什麼是 SQL"
   ]
  },
  {
   "cell_type": "markdown",
   "metadata": {
    "slideshow": {
     "slide_type": "subslide"
    }
   },
   "source": [
    "## SQL 是縮寫\n",
    "\n",
    "- Structured Query Language\n",
    "- 查詢資料庫的語言"
   ]
  },
  {
   "cell_type": "markdown",
   "metadata": {
    "slideshow": {
     "slide_type": "subslide"
    }
   },
   "source": [
    "## 資料庫系統\n",
    "\n",
    "- 商業\n",
    "    - Microsoft SQL Server\n",
    "    - Oracle\n",
    "    - IBM DB2\n",
    "- 開源\n",
    "    - **MySQL**（這門課所使用的）\n",
    "    - PostgreSQL\n",
    "    - MongoDB"
   ]
  },
  {
   "cell_type": "markdown",
   "metadata": {
    "slideshow": {
     "slide_type": "slide"
    }
   },
   "source": [
    "# 如何連結資料庫"
   ]
  },
  {
   "cell_type": "markdown",
   "metadata": {
    "slideshow": {
     "slide_type": "subslide"
    }
   },
   "source": [
    "## 使用虛擬機器（Virtual Machine）\n",
    "\n",
    "- 我們使用 [MySQL Workbench](https://www.mysql.com/products/workbench/)\n",
    "- 為避免安裝問題，下載已經建立好的映像檔：\n",
    "    - [32-bit 版本](https://storage.googleapis.com/csiersql/r-sql-train-32.zip)\n",
    "    - [64-bit 版本](https://storage.googleapis.com/csiersql/r-sql-train-64.zip)"
   ]
  },
  {
   "cell_type": "markdown",
   "metadata": {
    "slideshow": {
     "slide_type": "subslide"
    }
   },
   "source": [
    "## 如果您在自己的電腦成功安裝了 MySQL Workbench\n",
    "\n",
    "- 下載這三個憑證：\n",
    "    - [SSL Key](https://storage.googleapis.com/csiersql/client-key.pem)\n",
    "    - [SSL CERT](https://storage.googleapis.com/csiersql/client-cert.pem)\n",
    "    - [SSL CA](https://storage.googleapis.com/csiersql/server-ca.pem)"
   ]
  },
  {
   "cell_type": "markdown",
   "metadata": {
    "slideshow": {
     "slide_type": "subslide"
    }
   },
   "source": [
    "## 設定虛擬機器\n",
    "\n",
    "- 開啟桌面上的 Virtual Box 捷徑\n",
    "\n",
    "![](img/vbox.png)\n",
    "\n",
    "![](img/chapter0110.png)"
   ]
  },
  {
   "cell_type": "markdown",
   "metadata": {
    "slideshow": {
     "slide_type": "subslide"
    }
   },
   "source": [
    "## 設定虛擬機器（2）\n",
    "\n",
    "![](img/chapter0111.png)"
   ]
  },
  {
   "cell_type": "markdown",
   "metadata": {
    "slideshow": {
     "slide_type": "subslide"
    }
   },
   "source": [
    "## 設定虛擬機器（3）\n",
    "\n",
    "![](img/chapter0112.png)"
   ]
  },
  {
   "cell_type": "markdown",
   "metadata": {
    "slideshow": {
     "slide_type": "subslide"
    }
   },
   "source": [
    "## 設定虛擬機器（4）\n",
    "\n",
    "![](img/chapter0113.png)"
   ]
  },
  {
   "cell_type": "markdown",
   "metadata": {
    "slideshow": {
     "slide_type": "subslide"
    }
   },
   "source": [
    "## 設定虛擬機器（5）\n",
    "\n",
    "- 點選啟動\n",
    "\n",
    "![](img/chapter0114.png)"
   ]
  },
  {
   "cell_type": "markdown",
   "metadata": {
    "slideshow": {
     "slide_type": "subslide"
    }
   },
   "source": [
    "## 設定虛擬機器（6）\n",
    "\n",
    "- 輸入密碼\n",
    "\n",
    "![](img/chapter0115.png)"
   ]
  },
  {
   "cell_type": "markdown",
   "metadata": {
    "slideshow": {
     "slide_type": "subslide"
    }
   },
   "source": [
    "## 執行 MySQL Workbench\n",
    "\n",
    "![](img/chapter0116.png)"
   ]
  },
  {
   "cell_type": "markdown",
   "metadata": {
    "slideshow": {
     "slide_type": "subslide"
    }
   },
   "source": [
    "## 設定連線資訊\n",
    "\n",
    "- 新增連線\n",
    "\n",
    "![](img/chapter0101.png)"
   ]
  },
  {
   "cell_type": "markdown",
   "metadata": {
    "slideshow": {
     "slide_type": "subslide"
    }
   },
   "source": [
    "## 設定連線資訊（2）\n",
    "\n",
    "- Hostname: 35.189.143.131\n",
    "- Port: 3306\n",
    "- Username: student\n",
    "\n",
    "![](img/chapter0102.png)"
   ]
  },
  {
   "cell_type": "markdown",
   "metadata": {
    "slideshow": {
     "slide_type": "subslide"
    }
   },
   "source": [
    "## 設定連線資訊（3）\n",
    "\n",
    "- 依序輸入已經下載好的憑證路徑\n",
    "\n",
    "![](img/chapter0103.png)"
   ]
  },
  {
   "cell_type": "markdown",
   "metadata": {
    "slideshow": {
     "slide_type": "subslide"
    }
   },
   "source": [
    "## 設定連線資訊（4）\n",
    "\n",
    "- 雙擊連線或按右鍵開啟連線\n",
    "\n",
    "![](img/chapter0104.png)"
   ]
  },
  {
   "cell_type": "markdown",
   "metadata": {
    "slideshow": {
     "slide_type": "subslide"
    }
   },
   "source": [
    "## 設定連線資訊（5）\n",
    "\n",
    "- 輸入密碼\n",
    "\n",
    "![](img/chapter0105.png)"
   ]
  },
  {
   "cell_type": "markdown",
   "metadata": {
    "slideshow": {
     "slide_type": "subslide"
    }
   },
   "source": [
    "## 設定連線資訊（6）\n",
    "\n",
    "- Congrats, we are ALL set!\n",
    "\n",
    "![](img/chapter0106.png)"
   ]
  }
 ],
 "metadata": {
  "celltoolbar": "Slideshow",
  "kernelspec": {
   "display_name": "Python 3",
   "language": "python",
   "name": "python3"
  },
  "language_info": {
   "codemirror_mode": {
    "name": "ipython",
    "version": 3
   },
   "file_extension": ".py",
   "mimetype": "text/x-python",
   "name": "python",
   "nbconvert_exporter": "python",
   "pygments_lexer": "ipython3",
   "version": "3.6.0"
  }
 },
 "nbformat": 4,
 "nbformat_minor": 2
}
