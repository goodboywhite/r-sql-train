{
 "cells": [
  {
   "cell_type": "markdown",
   "metadata": {
    "slideshow": {
     "slide_type": "slide"
    }
   },
   "source": [
    "# 使用 R 語言讀取資料庫表格\n",
    "\n",
    "## 郭耀仁"
   ]
  },
  {
   "cell_type": "markdown",
   "metadata": {
    "slideshow": {
     "slide_type": "slide"
    }
   },
   "source": [
    "## 以套件為導向出發\n",
    "\n",
    "- 用不同的套件讀取不同資料庫系統的表格：\n",
    "\n",
    "|資料庫系統|套件|\n",
    "|---------|---|\n",
    "|MySQL|`RMySQL`|\n",
    "|PostgreSQL|`RPostgreSQL`|\n",
    "|Oracle|`ROracle`|"
   ]
  },
  {
   "cell_type": "markdown",
   "metadata": {
    "slideshow": {
     "slide_type": "subslide"
    }
   },
   "source": [
    "## 以套件為導向出發（2）\n",
    "\n",
    "- 使用 `DBI` 套件中的各種函數來完成我們的任務\n",
    "    - `dbConnect()` 是建立連線的函數\n",
    "    - `dbListTables()` 是列出資料庫中所有表格的函數\n",
    "    - `dbDisconnect()` 是中斷 R 語言與資料庫的連線（重要！）"
   ]
  },
  {
   "cell_type": "markdown",
   "metadata": {
    "slideshow": {
     "slide_type": "slide"
    }
   },
   "source": [
    "## 更多 `DBI` 套件中的函數\n",
    "\n",
    "- `dbReadTable()`\n",
    "\n",
    "```r\n",
    "library(DBI)\n",
    "\n",
    "con <- dbConnect(RMySQL::MySQL(), \n",
    "                 dbname = \"world\",\n",
    "                 host = \"rsqltrain.ced04jhfjfgi.ap-northeast-1.rds.amazonaws.com\",\n",
    "                 port = 3306,\n",
    "                 user = \"trainstudent\",\n",
    "                 password = \"csietrain\")\n",
    "\n",
    "country <- dbReadTable(con, \"country\")\n",
    "dbDisconnect(con)\n",
    "View(country)\n",
    "```"
   ]
  },
  {
   "cell_type": "markdown",
   "metadata": {
    "slideshow": {
     "slide_type": "subslide"
    }
   },
   "source": [
    "## 更多 `DBI` 套件中的函數（2）\n",
    "\n",
    "- `country` 現在是一個 R 語言的資料框（DataFrame）物件\n",
    "- 除了 `View()` 還可以透過一些 R 語言的函數觀察它：\n",
    "\n",
    "```r\n",
    "head(country)\n",
    "tail(country)\n",
    "dim(country)\n",
    "summary(country)\n",
    "names(country)\n",
    "summary(country)\n",
    "str(country)\n",
    "```"
   ]
  },
  {
   "cell_type": "markdown",
   "metadata": {
    "slideshow": {
     "slide_type": "subslide"
    }
   },
   "source": [
    "## 更多 `DBI` 套件中的函數（3）\n",
    "\n",
    "- 實務上的作法絕大多數是讀取資料庫表格的部分資料\n",
    "- `dbGetQuery()`\n",
    "\n",
    "```r\n",
    "library(DBI)\n",
    "\n",
    "con <- dbConnect(RMySQL::MySQL(), \n",
    "                 dbname = \"world\",\n",
    "                 host = \"rsqltrain.ced04jhfjfgi.ap-northeast-1.rds.amazonaws.com\",\n",
    "                 port = 3306,\n",
    "                 user = \"trainstudent\",\n",
    "                 password = \"csietrain\")\n",
    "\n",
    "twn <- dbGetQuery(con, statement = \"SELECT * FROM country WHERE Name = 'Taiwan'\")\n",
    "twn\n",
    "\n",
    "dbDisconnect(con)\n",
    "```"
   ]
  },
  {
   "cell_type": "markdown",
   "metadata": {
    "slideshow": {
     "slide_type": "slide"
    }
   },
   "source": [
    "## 隨堂練習\n",
    "\n",
    "- 在 R 語言中將 `country` 表格的歐洲國家選出來存成一個名為 europe 的資料框\n",
    "\n",
    "```r\n",
    "library(DBI)\n",
    "\n",
    "con <- dbConnect(RMySQL::MySQL(), \n",
    "                 dbname = \"world\",\n",
    "                 host = \"rsqltrain.ced04jhfjfgi.ap-northeast-1.rds.amazonaws.com\",\n",
    "                 port = 3306,\n",
    "                 user = \"trainstudent\",\n",
    "                 password = \"csietrain\")\n",
    "\n",
    "europe <- dbGetQuery(con, statement = \"____\")\n",
    "dbDisconnect(con)\n",
    "\n",
    "# 看看 europe\n",
    "dim(europe)\n",
    "head(europe)\n",
    "```"
   ]
  }
 ],
 "metadata": {
  "celltoolbar": "Slideshow",
  "kernelspec": {
   "display_name": "R",
   "language": "R",
   "name": "ir"
  },
  "language_info": {
   "codemirror_mode": "r",
   "file_extension": ".r",
   "mimetype": "text/x-r-source",
   "name": "R",
   "pygments_lexer": "r",
   "version": "3.4.0"
  }
 },
 "nbformat": 4,
 "nbformat_minor": 2
}
