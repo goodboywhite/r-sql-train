{
 "cells": [
  {
   "cell_type": "markdown",
   "metadata": {
    "slideshow": {
     "slide_type": "slide"
    }
   },
   "source": [
    "# SQL 基礎\n",
    "\n",
    "## 郭耀仁"
   ]
  },
  {
   "cell_type": "markdown",
   "metadata": {
    "slideshow": {
     "slide_type": "slide"
    }
   },
   "source": [
    "## 惱人的問題\n",
    "\n",
    "- 我的需求單排序很後面...\n",
    "- 資料撈回來了，但是我又想增加一些需求..."
   ]
  },
  {
   "cell_type": "markdown",
   "metadata": {
    "slideshow": {
     "slide_type": "subslide"
    }
   },
   "source": [
    "## 可能的解法\n",
    "\n",
    "- 找一個工程師全力支援（X）\n",
    "- 申請一個資料庫帳號自己來撈資料（O）"
   ]
  },
  {
   "cell_type": "markdown",
   "metadata": {
    "slideshow": {
     "slide_type": "subslide"
    }
   },
   "source": [
    "## 這門課的目標\n",
    "\n",
    "- 拉近使用者與資訊人員的距離\n",
    "- 提高使用者的工作掌握度\n",
    "- Becoming a **power** user!"
   ]
  },
  {
   "cell_type": "markdown",
   "metadata": {
    "slideshow": {
     "slide_type": "subslide"
    }
   },
   "source": [
    "## 課程結束後你將能夠\n",
    "\n",
    "- 自行撰寫 SQL 指令查詢資料庫\n",
    "- 進行更有效率的需求訪談\n",
    "- 將資料庫和程式語言環境相連結"
   ]
  },
  {
   "cell_type": "markdown",
   "metadata": {
    "slideshow": {
     "slide_type": "slide"
    }
   },
   "source": [
    "# 什麼是 SQL"
   ]
  },
  {
   "cell_type": "markdown",
   "metadata": {
    "slideshow": {
     "slide_type": "subslide"
    }
   },
   "source": [
    "## SQL 是縮寫\n",
    "\n",
    "- 發音是 **se-quel**\n",
    "- Structured Query Language\n",
    "- 查詢資料庫的語言"
   ]
  },
  {
   "cell_type": "markdown",
   "metadata": {
    "slideshow": {
     "slide_type": "subslide"
    }
   },
   "source": [
    "## 為什麼要使用資料庫？\n",
    "\n",
    "以檔案格式存在的資料，在以下四個任務無法規模化：\n",
    "\n",
    "- C(reate)\n",
    "- R(ead)\n",
    "- U(pdated)\n",
    "- D(elete)"
   ]
  },
  {
   "cell_type": "markdown",
   "metadata": {
    "slideshow": {
     "slide_type": "subslide"
    }
   },
   "source": [
    "## 資料庫系統\n",
    "\n",
    "- 商業\n",
    "    - Microsoft SQL Server\n",
    "    - Oracle\n",
    "    - IBM DB2\n",
    "- 開源\n",
    "    - **MySQL**\n",
    "    - PostgreSQL\n",
    "    - MongoDB"
   ]
  },
  {
   "cell_type": "markdown",
   "metadata": {
    "slideshow": {
     "slide_type": "subslide"
    }
   },
   "source": [
    "## 另一個角度看資料庫系統分類\n",
    "\n",
    "- SQL\n",
    "    - Microsoft SQL Server\n",
    "    - Oracle\n",
    "    - IBM DB2\n",
    "    - **MySQL**\n",
    "    - PostgreSQL\n",
    "- NoSQL\n",
    "    - MongoDB\n",
    "    - Firebase"
   ]
  },
  {
   "cell_type": "markdown",
   "metadata": {
    "slideshow": {
     "slide_type": "subslide"
    }
   },
   "source": [
    "## 資料庫系統（2）\n",
    "\n",
    "- SQL 資料庫以表格的形式儲存資料：\n",
    "\n",
    "![](img/chapter0120.png)"
   ]
  },
  {
   "cell_type": "markdown",
   "metadata": {
    "slideshow": {
     "slide_type": "subslide"
    }
   },
   "source": [
    "## 資料庫系統（3）\n",
    "\n",
    "- NoSQL 資料庫以 JSON 格式儲存資料：\n",
    "\n",
    "![](img/chapter0119.png)"
   ]
  },
  {
   "cell_type": "markdown",
   "metadata": {
    "slideshow": {
     "slide_type": "subslide"
    }
   },
   "source": [
    "## 資料庫系統（4）\n",
    "\n",
    "- 表格較直觀，但不夠靈活\n",
    "- JSON 較抽象，但非常靈活"
   ]
  },
  {
   "cell_type": "markdown",
   "metadata": {
    "slideshow": {
     "slide_type": "slide"
    }
   },
   "source": [
    "# SQL 的重要性"
   ]
  },
  {
   "cell_type": "markdown",
   "metadata": {
    "slideshow": {
     "slide_type": "subslide"
    }
   },
   "source": [
    "## Python、R 與 SQL 是資料分析入門的基本\n",
    "\n",
    "[探索 2017 Kaggle 資料科學調查資料](https://medium.com/pyradise/%E6%8E%A2%E7%B4%A2-2017-kaggle-%E8%B3%87%E6%96%99%E7%A7%91%E5%AD%B8%E8%AA%BF%E6%9F%A5%E8%B3%87%E6%96%99-f03f1617ae5e)"
   ]
  },
  {
   "cell_type": "markdown",
   "metadata": {
    "slideshow": {
     "slide_type": "subslide"
    }
   },
   "source": [
    "## 沒有基本，就像沒有醬汁的鳳尾炸蝦\n",
    "\n",
    "![](img/where_is_sauce.jpg)"
   ]
  },
  {
   "cell_type": "markdown",
   "metadata": {
    "slideshow": {
     "slide_type": "slide"
    }
   },
   "source": [
    "# Getting Started"
   ]
  },
  {
   "cell_type": "markdown",
   "metadata": {
    "slideshow": {
     "slide_type": "subslide"
    }
   },
   "source": [
    "## 我們使用幾個免費資源\n",
    "\n",
    "- [DataCamp](https://www.datacamp.com/courses/intro-to-sql-for-data-science?tap_a=5644-dce66f&tap_s=194899-1fb421)\n",
    "- [SQLZOO](https://sqlzoo.net/wiki/SQL_Tutorial)\n",
    "- [codecademy](https://www.codecademy.com)"
   ]
  },
  {
   "cell_type": "markdown",
   "metadata": {
    "slideshow": {
     "slide_type": "subslide"
    }
   },
   "source": [
    "## 關於表格\n",
    "\n",
    "|資料方向|名稱|俗稱|\n",
    "|-------|----|-----|\n",
    "|水平|Rows|Observations|\n",
    "|垂直|Columns|Variables|"
   ]
  },
  {
   "cell_type": "markdown",
   "metadata": {
    "slideshow": {
     "slide_type": "subslide"
    }
   },
   "source": [
    "## 寫作風格\n",
    "\n",
    "- 查詢語法、函數全大寫：\n",
    "\n",
    "```sql\n",
    "SELECT * FROM world.country;\n",
    "```"
   ]
  },
  {
   "cell_type": "markdown",
   "metadata": {
    "slideshow": {
     "slide_type": "subslide"
    }
   },
   "source": [
    "## 寫作風格\n",
    "\n",
    "- 變數名稱、資料庫名稱與表格名稱遵從其命名之大小寫：\n",
    "\n",
    "```sql\n",
    "SELECT Name FROM world.country;\n",
    "```"
   ]
  },
  {
   "cell_type": "markdown",
   "metadata": {
    "slideshow": {
     "slide_type": "subslide"
    }
   },
   "source": [
    "## 寫作風格\n",
    "\n",
    "- 選擇多個變數請換行，一行一個變數\n",
    "- 換行後查詢語法使用 `Tab` 鍵縮排\n",
    "\n",
    "```sql\n",
    "SELECT Name,\n",
    "       Continent\n",
    "    FROM world.country;\n",
    "```"
   ]
  },
  {
   "cell_type": "markdown",
   "metadata": {
    "slideshow": {
     "slide_type": "subslide"
    }
   },
   "source": [
    "## 寫作風格\n",
    "\n",
    "- 使用分號標註查詢結束\n",
    "\n",
    "```sql\n",
    "SELECT Name,\n",
    "       Continent\n",
    "    FROM world.country;\n",
    "```"
   ]
  },
  {
   "cell_type": "markdown",
   "metadata": {
    "slideshow": {
     "slide_type": "subslide"
    }
   },
   "source": [
    "## SQL 查詢：SELECT\n",
    "\n",
    "- 選擇表格中的變數"
   ]
  },
  {
   "cell_type": "markdown",
   "metadata": {
    "slideshow": {
     "slide_type": "subslide"
    }
   },
   "source": [
    "## SQL 查詢：FROM\n",
    "\n",
    "- 指定從哪個表格中擷取資料"
   ]
  },
  {
   "cell_type": "markdown",
   "metadata": {
    "slideshow": {
     "slide_type": "subslide"
    }
   },
   "source": [
    "## 在 SQLZOO 寫出我們的第一個 SQL 查詢\n",
    "\n",
    "- Observe the result of running this SQL command to show the **name**, **continent** and **population** of all countries.\n",
    "\n",
    "<https://sqlzoo.net/wiki/SELECT_from_WORLD_Tutorial>"
   ]
  },
  {
   "cell_type": "markdown",
   "metadata": {
    "slideshow": {
     "slide_type": "subslide"
    }
   },
   "source": [
    "## SQL 查詢：WHERE\n",
    "\n",
    "- 對查詢結果下條件篩選\n",
    "- 常見有文字的篩選條件、數值的篩選條件"
   ]
  },
  {
   "cell_type": "markdown",
   "metadata": {
    "slideshow": {
     "slide_type": "subslide"
    }
   },
   "source": [
    "## SQL 查詢：WHERE\n",
    "\n",
    "查詢法國的人口數\n",
    "\n",
    "```sql\n",
    "SELECT population\n",
    "    FROM world\n",
    "    WHERE name = 'France';\n",
    "```"
   ]
  },
  {
   "cell_type": "markdown",
   "metadata": {
    "slideshow": {
     "slide_type": "subslide"
    }
   },
   "source": [
    "## SQL 查詢：WHERE\n",
    "\n",
    "- 等號的意義？\n",
    "- 單引號的意義？"
   ]
  },
  {
   "cell_type": "markdown",
   "metadata": {
    "slideshow": {
     "slide_type": "subslide"
    }
   },
   "source": [
    "## SQL 查詢：WHERE\n",
    "\n",
    "- 多個條件的時候可以使用：\n",
    "    - `AND`\n",
    "    - `OR`\n",
    "    - `IN`\n",
    "    - `BETWEEN`"
   ]
  },
  {
   "cell_type": "markdown",
   "metadata": {
    "slideshow": {
     "slide_type": "subslide"
    }
   },
   "source": [
    "## SQL 查詢：WHERE\n",
    "\n",
    "```sql\n",
    "SELECT name, population FROM world\n",
    "  WHERE name IN ('Brazil', 'Russia', 'India', 'China');\n",
    "```"
   ]
  },
  {
   "cell_type": "markdown",
   "metadata": {
    "slideshow": {
     "slide_type": "subslide"
    }
   },
   "source": [
    "## SQL 查詢：WHERE\n",
    "\n",
    "```sql\n",
    "SELECT name, area FROM world\n",
    "  WHERE area > 250000 AND\n",
    "        area < 300000;\n",
    "```"
   ]
  },
  {
   "cell_type": "markdown",
   "metadata": {
    "slideshow": {
     "slide_type": "subslide"
    }
   },
   "source": [
    "## SQL 查詢：WHERE\n",
    "\n",
    "```sql\n",
    "SELECT name, area FROM world\n",
    "  WHERE area BETWEEN 250000 AND 300000;\n",
    "```"
   ]
  }
 ],
 "metadata": {
  "celltoolbar": "Slideshow",
  "kernelspec": {
   "display_name": "Python 3",
   "language": "python",
   "name": "python3"
  },
  "language_info": {
   "codemirror_mode": {
    "name": "ipython",
    "version": 3
   },
   "file_extension": ".py",
   "mimetype": "text/x-python",
   "name": "python",
   "nbconvert_exporter": "python",
   "pygments_lexer": "ipython3",
   "version": "3.6.0"
  }
 },
 "nbformat": 4,
 "nbformat_minor": 2
}
