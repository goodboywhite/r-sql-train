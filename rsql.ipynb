{
 "cells": [
  {
   "cell_type": "markdown",
   "metadata": {
    "slideshow": {
     "slide_type": "slide"
    }
   },
   "source": [
    "# 在 R 進行 SQL 操作\n",
    "\n",
    "## 郭耀仁"
   ]
  },
  {
   "cell_type": "markdown",
   "metadata": {
    "slideshow": {
     "slide_type": "slide"
    }
   },
   "source": [
    "## 透過 dplyr\n",
    "\n",
    "```r\n",
    "library(dplyr)\n",
    "library(DBI)\n",
    "\n",
    "con <- dbConnect(RMySQL::MySQL(), \n",
    "                 dbname = \"world\",\n",
    "                 host = \"rsqltrain.ced04jhfjfgi.ap-northeast-1.rds.amazonaws.com\",\n",
    "                 port = 3306,\n",
    "                 user = \"trainstudent\",\n",
    "                 password = \"csietrain\")\n",
    "\n",
    "country <- dbReadTable(con, \"country\")\n",
    "dbDisconnect(con)\n",
    "```"
   ]
  },
  {
   "cell_type": "markdown",
   "metadata": {
    "slideshow": {
     "slide_type": "subslide"
    }
   },
   "source": [
    "## 不同的函數\n",
    "\n",
    "|函數|用途|\n",
    "|:----|:----|\n",
    "|`filter()`|觀測值（列）選擇|\n",
    "|`select()`|變數（欄）選擇|\n",
    "|`mutate()`|新增變數（欄）|\n",
    "|`arrange()`|排序|\n",
    "|`summarise()`|聚合|\n",
    "|`group_by()`|分組|"
   ]
  },
  {
   "cell_type": "markdown",
   "metadata": {
    "slideshow": {
     "slide_type": "subslide"
    }
   },
   "source": [
    "## `filter()`\n",
    "\n",
    "將台灣的國家資料選出來\n",
    "\n",
    "```r\n",
    "taiwan <- country %>%\n",
    "    filter(Code == \"TWN\")\n",
    "```"
   ]
  },
  {
   "cell_type": "markdown",
   "metadata": {
    "slideshow": {
     "slide_type": "subslide"
    }
   },
   "source": [
    "## `select()`\n",
    "\n",
    "選擇資料框中的變數\n",
    "\n",
    "```r\n",
    "country_names <- country %>%\n",
    "    select(Name)\n",
    "```"
   ]
  },
  {
   "cell_type": "markdown",
   "metadata": {
    "slideshow": {
     "slide_type": "subslide"
    }
   },
   "source": [
    "## `mutate()`\n",
    "\n",
    "新增人口密度 `Pop_Density` 變數\n",
    "\n",
    "```r\n",
    "country %>%\n",
    "  mutate(\n",
    "    Pop_Density = Population / SurfaceArea\n",
    "  )\n",
    "```"
   ]
  },
  {
   "cell_type": "markdown",
   "metadata": {
    "slideshow": {
     "slide_type": "subslide"
    }
   },
   "source": [
    "## `arrange`\n",
    "\n",
    "以 `Population` 排序\n",
    "\n",
    "```r\n",
    "country %>%\n",
    "  filter(Continent == 'Asia') %>%\n",
    "  select(Name, Population) %>%\n",
    "  arrange(desc(Population))\n",
    "```"
   ]
  },
  {
   "cell_type": "markdown",
   "metadata": {
    "slideshow": {
     "slide_type": "subslide"
    }
   },
   "source": [
    "## `summarise()`\n",
    "\n",
    "計算全球人口數\n",
    "\n",
    "```r\n",
    "country %>% \n",
    "    summarise(Ttl_Pop = sum(as.numeric(Population)))\n",
    "```"
   ]
  },
  {
   "cell_type": "markdown",
   "metadata": {
    "slideshow": {
     "slide_type": "subslide"
    }
   },
   "source": [
    "## `group_by()`\n",
    "\n",
    "依照洲別計算人口數\n",
    "\n",
    "```r\n",
    "country %>%\n",
    "  group_by(Continent) %>%\n",
    "  summarise(Ttl_Pop = sum(as.numeric(Population))) %>%\n",
    "  arrange(desc(Ttl_Pop))\n",
    "```"
   ]
  },
  {
   "cell_type": "markdown",
   "metadata": {
    "slideshow": {
     "slide_type": "slide"
    }
   },
   "source": [
    "# 資料框聯結"
   ]
  },
  {
   "cell_type": "markdown",
   "metadata": {
    "slideshow": {
     "slide_type": "subslide"
    }
   },
   "source": [
    "## 不同的聯結方式\n",
    "\n",
    "|種類|函數|\n",
    "|:----|:----|\n",
    "|內部連結|`inner_join()`|\n",
    "|左外部連結|`left_join()`|\n",
    "|右外部連結|`right_join()`|\n",
    "|全外部連結|`full_join()`|"
   ]
  },
  {
   "cell_type": "markdown",
   "metadata": {
    "slideshow": {
     "slide_type": "subslide"
    }
   },
   "source": [
    "## 左表格與右表格\n",
    "\n",
    "```r\n",
    "library(DBI)\n",
    "\n",
    "con <- dbConnect(RMySQL::MySQL(), \n",
    "                 dbname = \"world\",\n",
    "                 host = \"rsqltrain.ced04jhfjfgi.ap-northeast-1.rds.amazonaws.com\",\n",
    "                 port = 3306,\n",
    "                 user = \"trainstudent\",\n",
    "                 password = \"csietrain\")\n",
    "\n",
    "# 左表格 \n",
    "twn_jpn_country <- dbGetQuery(con, statement = \"SELECT * FROM country WHERE Code in ('TWN', 'JPN')\")\n",
    "\n",
    "# 右表格\n",
    "twn_kor_city <- dbGetQuery(con, statement = \"SELECT * FROM city WHERE CountryCode in ('TWN', 'KOR')\")\n",
    "\n",
    "dbDisconnect(con)\n",
    "```"
   ]
  },
  {
   "cell_type": "markdown",
   "metadata": {
    "slideshow": {
     "slide_type": "subslide"
    }
   },
   "source": [
    "## 內部連結\n",
    "\n",
    "```r\n",
    "joined_df <- inner_join(twn_jpn_country, twn_kor_city, by = c(\"Code\" = \"CountryCode\"))\n",
    "```"
   ]
  },
  {
   "cell_type": "markdown",
   "metadata": {
    "slideshow": {
     "slide_type": "subslide"
    }
   },
   "source": [
    "## 左外部連結\n",
    "\n",
    "```{r}\n",
    "joined_df <- left_join(twn_jpn_country, twn_kor_city, by = c(\"Code\" = \"CountryCode\"))\n",
    "```"
   ]
  },
  {
   "cell_type": "markdown",
   "metadata": {
    "slideshow": {
     "slide_type": "subslide"
    }
   },
   "source": [
    "## 右外部連結\n",
    "\n",
    "```{r}\n",
    "joined_df <- right_join(twn_jpn_country, twn_kor_city, by = c(\"Code\" = \"CountryCode\"))\n",
    "```"
   ]
  },
  {
   "cell_type": "markdown",
   "metadata": {
    "slideshow": {
     "slide_type": "subslide"
    }
   },
   "source": [
    "## 全外部連結\n",
    "\n",
    "```{r}\n",
    "joined_df <- full_join(twn_jpn_country, twn_kor_city, by = c(\"Code\" = \"CountryCode\"))\n",
    "```"
   ]
  }
 ],
 "metadata": {
  "celltoolbar": "Slideshow",
  "kernelspec": {
   "display_name": "Python 3",
   "language": "python",
   "name": "python3"
  },
  "language_info": {
   "codemirror_mode": {
    "name": "ipython",
    "version": 3
   },
   "file_extension": ".py",
   "mimetype": "text/x-python",
   "name": "python",
   "nbconvert_exporter": "python",
   "pygments_lexer": "ipython3",
   "version": "3.6.0"
  }
 },
 "nbformat": 4,
 "nbformat_minor": 2
}
