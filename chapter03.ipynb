{
 "cells": [
  {
   "cell_type": "markdown",
   "metadata": {
    "slideshow": {
     "slide_type": "slide"
    }
   },
   "source": [
    "# 建立 R 語言與資料庫的連結\n",
    "\n",
    "## 郭耀仁"
   ]
  },
  {
   "cell_type": "markdown",
   "metadata": {
    "slideshow": {
     "slide_type": "slide"
    }
   },
   "source": [
    "## 觀念\n",
    "\n",
    "- 我們現在在做的事情是什麼？\n",
    "    - 建立外部應用程式（External Applications）與資料庫的連結\n",
    "- 這門課用的外部應用程式：\n",
    "    - MySQL Workbench\n",
    "    - R\n",
    "- 這門課用的資料庫系統與主機\n",
    "    - MySQL@Cloud SQL(Google Cloud Platform)"
   ]
  },
  {
   "cell_type": "markdown",
   "metadata": {
    "slideshow": {
     "slide_type": "subslide"
    }
   },
   "source": [
    "## 觀念（2）\n",
    "\n",
    "- 不同的外部應用程式對應不同的連結方式\n",
    "- 不同的主機對應不同的連結方式\n",
    "- 我們用的連結方式：\n",
    "\n",
    "|外部應用程式|連結方式|認證方式|\n",
    "|----------|-------|-------|\n",
    "|MySQL Workbench|IP 位址|SSL 憑證|\n",
    "|R Language|代理伺服器|API 憑證|"
   ]
  },
  {
   "cell_type": "markdown",
   "metadata": {
    "slideshow": {
     "slide_type": "subslide"
    }
   },
   "source": [
    "## 觀念（3）\n",
    "\n",
    "- Proxy: 代理伺服器\n",
    "- 使用本機 127.0.0.1（or known as localhost）作為一個代理伺服器\n",
    "- 進而將 R 語言與我們的 Cloud SQL 資料庫（35.189.143.131）連結\n",
    "    - 像是這樣：R -> 代理伺服器 -> Cloud SQL\n",
    "- 公司內的設定需要 Case by case，沒有辦法一招打通關"
   ]
  },
  {
   "cell_type": "markdown",
   "metadata": {},
   "source": [
    "## 步驟\n",
    "\n",
    "- 啟動 Cloud SQL 專案的 API 功能\n",
    "- 下載 Cloud SQL Proxy\n",
    "- 建立一個 Service Account\n",
    "- 下載 API 憑證\n",
    "- 啟動代理伺服器\n",
    "- 啟動 RStudio\n",
    "- 安裝 `RMySQL` 套件\n",
    "- 載入 `DBI` 套件\n",
    "- 建立與代理伺服器的連線"
   ]
  },
  {
   "cell_type": "markdown",
   "metadata": {
    "slideshow": {
     "slide_type": "slide"
    }
   },
   "source": []
  },
  {
   "cell_type": "markdown",
   "metadata": {
    "slideshow": {
     "slide_type": "slide"
    }
   },
   "source": [
    "## 參考連結\n",
    "\n",
    "- [Connecting mysql Client Using the Cloud SQL Proxy](https://cloud.google.com/sql/docs/mysql/connect-admin-proxy)\n",
    "- [Google Cloud Platform for Data Scientists: Using R with Google Cloud SQL for MySQL](https://cloud.google.com/blog/big-data/2017/03/google-cloud-platform-for-data-scientists-using-r-with-google-cloud-sql-for-mysql)"
   ]
  }
 ],
 "metadata": {
  "celltoolbar": "Slideshow",
  "kernelspec": {
   "display_name": "Python 3",
   "language": "python",
   "name": "python3"
  },
  "language_info": {
   "codemirror_mode": {
    "name": "ipython",
    "version": 3
   },
   "file_extension": ".py",
   "mimetype": "text/x-python",
   "name": "python",
   "nbconvert_exporter": "python",
   "pygments_lexer": "ipython3",
   "version": "3.6.0"
  }
 },
 "nbformat": 4,
 "nbformat_minor": 2
}
