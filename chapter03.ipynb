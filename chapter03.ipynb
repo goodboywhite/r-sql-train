{
 "cells": [
  {
   "cell_type": "markdown",
   "metadata": {
    "slideshow": {
     "slide_type": "slide"
    }
   },
   "source": [
    "# 建立 R 語言與資料庫的連結\n",
    "\n",
    "## 郭耀仁"
   ]
  },
  {
   "cell_type": "markdown",
   "metadata": {
    "slideshow": {
     "slide_type": "slide"
    }
   },
   "source": [
    "## 觀念\n",
    "\n",
    "- 我們現在在做的事情是什麼？\n",
    "    - 建立外部應用程式（External Applications）與資料庫的連結\n",
    "- 這門課用的外部應用程式：\n",
    "    - MySQL Workbench\n",
    "    - R\n",
    "- 這門課用的資料庫系統與主機\n",
    "    - MySQL@AWS RDS"
   ]
  },
  {
   "cell_type": "markdown",
   "metadata": {
    "slideshow": {
     "slide_type": "subslide"
    }
   },
   "source": [
    "## 觀念（2）\n",
    "\n",
    "- 不同的外部應用程式對應不同的連結方式\n",
    "- 不同的主機對應不同的連結方式\n",
    "- 我們用的連結方式：\n",
    "\n",
    "|外部應用程式|連結方式|\n",
    "|----------|-------|\n",
    "|MySQL Workbench|任意 IP 位址|\n",
    "|R Language|任意 IP 位址|"
   ]
  },
  {
   "cell_type": "markdown",
   "metadata": {
    "slideshow": {
     "slide_type": "subslide"
    }
   },
   "source": [
    "## 觀念（3）\n",
    "\n",
    "- 我們現在所使用的連結方式（任意 IP 位址）**不推薦**在正式環境使用\n",
    "- 公司內的連線設定需要 Case by case，沒有辦法一招打通關\n",
    "    - 商業資料庫系統可以聯繫廠商提供技術支援（Tech Support）\n",
    "    - 開源資料庫系統可以查找文件、委請資訊部門或外包"
   ]
  },
  {
   "cell_type": "markdown",
   "metadata": {
    "slideshow": {
     "slide_type": "slide"
    }
   },
   "source": [
    "## 步驟\n",
    "\n",
    "- 調整 AWS RDS 的 Inbound Rule\n",
    "- 0.0.0.0/0 指的是任意 IPv4 位址\n",
    "\n",
    "![](img/chapter0304.png)"
   ]
  },
  {
   "cell_type": "markdown",
   "metadata": {
    "slideshow": {
     "slide_type": "subslide"
    }
   },
   "source": [
    "## 步驟（2）\n",
    "\n",
    "- 打開 RStudio，下載 `RMySQL` 套件\n",
    "- 載入 `DBI` 套件\n",
    "\n",
    "```r\n",
    "install.packages(\"RMySQL\")\n",
    "library(DBI)\n",
    "```"
   ]
  },
  {
   "cell_type": "markdown",
   "metadata": {
    "slideshow": {
     "slide_type": "subslide"
    }
   },
   "source": [
    "## 步驟（3）\n",
    "\n",
    "- 下載套件跟載入套件有什麼不一樣？\n",
    "- 下載套件好比是從書店買書；載入套件好比是從書櫃上將書拿下來看"
   ]
  },
  {
   "cell_type": "code",
   "execution_count": null,
   "metadata": {
    "collapsed": true,
    "slideshow": {
     "slide_type": "subslide"
    }
   },
   "outputs": [],
   "source": [
    "## 步驟（4）\n",
    "\n",
    "# 利用 `dbConnect()` 建立連線\n",
    "con <- dbConnect(RMySQL::MySQL(), \n",
    "                 dbname = \"world\", \n",
    "                 host = \"rsqlclass.ced04jhfjfgi.ap-northeast-1.rds.amazonaws.com\", \n",
    "                 port = 3306,\n",
    "                 user = \"trainstudent\",\n",
    "                 password = \"csietrain\")"
   ]
  },
  {
   "cell_type": "code",
   "execution_count": null,
   "metadata": {
    "collapsed": true,
    "slideshow": {
     "slide_type": "subslide"
    }
   },
   "outputs": [],
   "source": [
    "## 步驟（5）\n",
    "\n",
    "# 列出資料庫中所有的表格\n",
    "dbListTables(con)\n",
    "\n",
    "# 中斷連線\n",
    "dbDisconnect(con) # 重要！"
   ]
  },
  {
   "cell_type": "markdown",
   "metadata": {
    "slideshow": {
     "slide_type": "slide"
    }
   },
   "source": [
    "## 參考連結\n",
    "\n",
    "- [Creating a MySQL DB Instance and Connecting to a Database on a MySQL DB Instance](http://docs.aws.amazon.com/AmazonRDS/latest/UserGuide/CHAP_GettingStarted.CreatingConnecting.MySQL.html)\n",
    "- [Working with an Amazon RDS DB Instance in a VPC](http://docs.aws.amazon.com/AmazonRDS/latest/UserGuide/USER_VPC.WorkingWithRDSInstanceinaVPC.html)\n",
    "- [Connecting mysql Client Using the Cloud SQL Proxy](https://cloud.google.com/sql/docs/mysql/connect-admin-proxy)\n",
    "- [Google Cloud Platform for Data Scientists: Using R with Google Cloud SQL for MySQL](https://cloud.google.com/blog/big-data/2017/03/google-cloud-platform-for-data-scientists-using-r-with-google-cloud-sql-for-mysql)"
   ]
  }
 ],
 "metadata": {
  "celltoolbar": "Slideshow",
  "kernelspec": {
   "display_name": "R",
   "language": "R",
   "name": "ir"
  },
  "language_info": {
   "codemirror_mode": "r",
   "file_extension": ".r",
   "mimetype": "text/x-r-source",
   "name": "R",
   "pygments_lexer": "r",
   "version": "3.4.0"
  }
 },
 "nbformat": 4,
 "nbformat_minor": 2
}
